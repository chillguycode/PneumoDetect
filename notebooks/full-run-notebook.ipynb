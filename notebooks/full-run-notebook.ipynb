{
 "cells": [
  {
   "cell_type": "markdown",
   "id": "2ab3a75e",
   "metadata": {
    "papermill": {
     "duration": 0.009406,
     "end_time": "2025-09-20T12:43:12.682014",
     "exception": false,
     "start_time": "2025-09-20T12:43:12.672608",
     "status": "completed"
    },
    "tags": []
   },
   "source": [
    "# Installing Dependencies"
   ]
  },
  {
   "cell_type": "code",
   "execution_count": 1,
   "id": "c69ed146",
   "metadata": {
    "_kg_hide-input": true,
    "execution": {
     "iopub.execute_input": "2025-09-20T12:43:12.696693Z",
     "iopub.status.busy": "2025-09-20T12:43:12.695957Z",
     "iopub.status.idle": "2025-09-20T12:43:25.109360Z",
     "shell.execute_reply": "2025-09-20T12:43:25.108392Z"
    },
    "papermill": {
     "duration": 12.421807,
     "end_time": "2025-09-20T12:43:25.110939",
     "exception": false,
     "start_time": "2025-09-20T12:43:12.689132",
     "status": "completed"
    },
    "scrolled": true,
    "tags": []
   },
   "outputs": [
    {
     "name": "stdout",
     "output_type": "stream",
     "text": [
      "Collecting mlflow==2.11.1\r\n",
      "  Downloading mlflow-2.11.1-py3-none-any.whl.metadata (15 kB)\r\n",
      "Requirement already satisfied: pynvml in /usr/local/lib/python3.11/dist-packages (12.0.0)\r\n",
      "Requirement already satisfied: psutil in /usr/local/lib/python3.11/dist-packages (7.0.0)\r\n",
      "Requirement already satisfied: click<9,>=7.0 in /usr/local/lib/python3.11/dist-packages (from mlflow==2.11.1) (8.2.1)\r\n",
      "Requirement already satisfied: cloudpickle<4 in /usr/local/lib/python3.11/dist-packages (from mlflow==2.11.1) (3.1.1)\r\n",
      "Requirement already satisfied: entrypoints<1 in /usr/local/lib/python3.11/dist-packages (from mlflow==2.11.1) (0.4)\r\n",
      "Requirement already satisfied: gitpython<4,>=3.1.9 in /usr/local/lib/python3.11/dist-packages (from mlflow==2.11.1) (3.1.44)\r\n",
      "Requirement already satisfied: pyyaml<7,>=5.1 in /usr/local/lib/python3.11/dist-packages (from mlflow==2.11.1) (6.0.2)\r\n",
      "Requirement already satisfied: protobuf<5,>=3.12.0 in /usr/local/lib/python3.11/dist-packages (from mlflow==2.11.1) (3.20.3)\r\n",
      "Collecting pytz<2025 (from mlflow==2.11.1)\r\n",
      "  Downloading pytz-2024.2-py2.py3-none-any.whl.metadata (22 kB)\r\n",
      "Requirement already satisfied: requests<3,>=2.17.3 in /usr/local/lib/python3.11/dist-packages (from mlflow==2.11.1) (2.32.4)\r\n",
      "Collecting packaging<24 (from mlflow==2.11.1)\r\n",
      "  Downloading packaging-23.2-py3-none-any.whl.metadata (3.2 kB)\r\n",
      "Collecting importlib-metadata!=4.7.0,<8,>=3.7.0 (from mlflow==2.11.1)\r\n",
      "  Downloading importlib_metadata-7.2.1-py3-none-any.whl.metadata (4.6 kB)\r\n",
      "Requirement already satisfied: sqlparse<1,>=0.4.0 in /usr/local/lib/python3.11/dist-packages (from mlflow==2.11.1) (0.5.3)\r\n",
      "Requirement already satisfied: alembic!=1.10.0,<2 in /usr/local/lib/python3.11/dist-packages (from mlflow==2.11.1) (1.16.2)\r\n",
      "Requirement already satisfied: docker<8,>=4.0.0 in /usr/local/lib/python3.11/dist-packages (from mlflow==2.11.1) (7.1.0)\r\n",
      "Requirement already satisfied: Flask<4 in /usr/local/lib/python3.11/dist-packages (from mlflow==2.11.1) (3.1.1)\r\n",
      "Requirement already satisfied: numpy<2 in /usr/local/lib/python3.11/dist-packages (from mlflow==2.11.1) (1.26.4)\r\n",
      "Requirement already satisfied: scipy<2 in /usr/local/lib/python3.11/dist-packages (from mlflow==2.11.1) (1.15.3)\r\n",
      "Requirement already satisfied: pandas<3 in /usr/local/lib/python3.11/dist-packages (from mlflow==2.11.1) (2.2.3)\r\n",
      "Collecting querystring-parser<2 (from mlflow==2.11.1)\r\n",
      "  Downloading querystring_parser-1.2.4-py2.py3-none-any.whl.metadata (559 bytes)\r\n",
      "Requirement already satisfied: sqlalchemy<3,>=1.4.0 in /usr/local/lib/python3.11/dist-packages (from mlflow==2.11.1) (2.0.41)\r\n",
      "Requirement already satisfied: scikit-learn<2 in /usr/local/lib/python3.11/dist-packages (from mlflow==2.11.1) (1.2.2)\r\n",
      "Collecting pyarrow<16,>=4.0.0 (from mlflow==2.11.1)\r\n",
      "  Downloading pyarrow-15.0.2-cp311-cp311-manylinux_2_28_x86_64.whl.metadata (3.0 kB)\r\n",
      "Requirement already satisfied: markdown<4,>=3.3 in /usr/local/lib/python3.11/dist-packages (from mlflow==2.11.1) (3.8.2)\r\n",
      "Requirement already satisfied: matplotlib<4 in /usr/local/lib/python3.11/dist-packages (from mlflow==2.11.1) (3.7.2)\r\n",
      "Collecting graphene<4 (from mlflow==2.11.1)\r\n",
      "  Downloading graphene-3.4.3-py2.py3-none-any.whl.metadata (6.9 kB)\r\n",
      "Collecting gunicorn<22 (from mlflow==2.11.1)\r\n",
      "  Downloading gunicorn-21.2.0-py3-none-any.whl.metadata (4.1 kB)\r\n",
      "Requirement already satisfied: Jinja2<4,>=2.11 in /usr/local/lib/python3.11/dist-packages (from mlflow==2.11.1) (3.1.6)\r\n",
      "Requirement already satisfied: nvidia-ml-py<13.0.0a0,>=12.0.0 in /usr/local/lib/python3.11/dist-packages (from pynvml) (12.575.51)\r\n",
      "Requirement already satisfied: Mako in /usr/local/lib/python3.11/dist-packages (from alembic!=1.10.0,<2->mlflow==2.11.1) (1.3.10)\r\n",
      "Requirement already satisfied: typing-extensions>=4.12 in /usr/local/lib/python3.11/dist-packages (from alembic!=1.10.0,<2->mlflow==2.11.1) (4.14.0)\r\n",
      "Requirement already satisfied: urllib3>=1.26.0 in /usr/local/lib/python3.11/dist-packages (from docker<8,>=4.0.0->mlflow==2.11.1) (2.5.0)\r\n",
      "Requirement already satisfied: blinker>=1.9.0 in /usr/local/lib/python3.11/dist-packages (from Flask<4->mlflow==2.11.1) (1.9.0)\r\n",
      "Requirement already satisfied: itsdangerous>=2.2.0 in /usr/local/lib/python3.11/dist-packages (from Flask<4->mlflow==2.11.1) (2.2.0)\r\n",
      "Requirement already satisfied: markupsafe>=2.1.1 in /usr/local/lib/python3.11/dist-packages (from Flask<4->mlflow==2.11.1) (3.0.2)\r\n",
      "Requirement already satisfied: werkzeug>=3.1.0 in /usr/local/lib/python3.11/dist-packages (from Flask<4->mlflow==2.11.1) (3.1.3)\r\n",
      "Requirement already satisfied: gitdb<5,>=4.0.1 in /usr/local/lib/python3.11/dist-packages (from gitpython<4,>=3.1.9->mlflow==2.11.1) (4.0.12)\r\n",
      "Collecting graphql-core<3.3,>=3.1 (from graphene<4->mlflow==2.11.1)\r\n",
      "  Downloading graphql_core-3.2.6-py3-none-any.whl.metadata (11 kB)\r\n",
      "Collecting graphql-relay<3.3,>=3.1 (from graphene<4->mlflow==2.11.1)\r\n",
      "  Downloading graphql_relay-3.2.0-py3-none-any.whl.metadata (12 kB)\r\n",
      "Requirement already satisfied: python-dateutil<3,>=2.7.0 in /usr/local/lib/python3.11/dist-packages (from graphene<4->mlflow==2.11.1) (2.9.0.post0)\r\n",
      "Requirement already satisfied: zipp>=0.5 in /usr/local/lib/python3.11/dist-packages (from importlib-metadata!=4.7.0,<8,>=3.7.0->mlflow==2.11.1) (3.23.0)\r\n",
      "Requirement already satisfied: contourpy>=1.0.1 in /usr/local/lib/python3.11/dist-packages (from matplotlib<4->mlflow==2.11.1) (1.3.2)\r\n",
      "Requirement already satisfied: cycler>=0.10 in /usr/local/lib/python3.11/dist-packages (from matplotlib<4->mlflow==2.11.1) (0.12.1)\r\n",
      "Requirement already satisfied: fonttools>=4.22.0 in /usr/local/lib/python3.11/dist-packages (from matplotlib<4->mlflow==2.11.1) (4.58.4)\r\n",
      "Requirement already satisfied: kiwisolver>=1.0.1 in /usr/local/lib/python3.11/dist-packages (from matplotlib<4->mlflow==2.11.1) (1.4.8)\r\n",
      "Requirement already satisfied: pillow>=6.2.0 in /usr/local/lib/python3.11/dist-packages (from matplotlib<4->mlflow==2.11.1) (11.2.1)\r\n",
      "Requirement already satisfied: pyparsing<3.1,>=2.3.1 in /usr/local/lib/python3.11/dist-packages (from matplotlib<4->mlflow==2.11.1) (3.0.9)\r\n",
      "Requirement already satisfied: mkl_fft in /usr/local/lib/python3.11/dist-packages (from numpy<2->mlflow==2.11.1) (1.3.8)\r\n",
      "Requirement already satisfied: mkl_random in /usr/local/lib/python3.11/dist-packages (from numpy<2->mlflow==2.11.1) (1.2.4)\r\n",
      "Requirement already satisfied: mkl_umath in /usr/local/lib/python3.11/dist-packages (from numpy<2->mlflow==2.11.1) (0.1.1)\r\n",
      "Requirement already satisfied: mkl in /usr/local/lib/python3.11/dist-packages (from numpy<2->mlflow==2.11.1) (2025.2.0)\r\n",
      "Requirement already satisfied: tbb4py in /usr/local/lib/python3.11/dist-packages (from numpy<2->mlflow==2.11.1) (2022.2.0)\r\n",
      "Requirement already satisfied: mkl-service in /usr/local/lib/python3.11/dist-packages (from numpy<2->mlflow==2.11.1) (2.4.1)\r\n",
      "Requirement already satisfied: tzdata>=2022.7 in /usr/local/lib/python3.11/dist-packages (from pandas<3->mlflow==2.11.1) (2025.2)\r\n",
      "Requirement already satisfied: six in /usr/local/lib/python3.11/dist-packages (from querystring-parser<2->mlflow==2.11.1) (1.17.0)\r\n",
      "Requirement already satisfied: charset_normalizer<4,>=2 in /usr/local/lib/python3.11/dist-packages (from requests<3,>=2.17.3->mlflow==2.11.1) (3.4.2)\r\n",
      "Requirement already satisfied: idna<4,>=2.5 in /usr/local/lib/python3.11/dist-packages (from requests<3,>=2.17.3->mlflow==2.11.1) (3.10)\r\n",
      "Requirement already satisfied: certifi>=2017.4.17 in /usr/local/lib/python3.11/dist-packages (from requests<3,>=2.17.3->mlflow==2.11.1) (2025.6.15)\r\n",
      "Requirement already satisfied: joblib>=1.1.1 in /usr/local/lib/python3.11/dist-packages (from scikit-learn<2->mlflow==2.11.1) (1.5.1)\r\n",
      "Requirement already satisfied: threadpoolctl>=2.0.0 in /usr/local/lib/python3.11/dist-packages (from scikit-learn<2->mlflow==2.11.1) (3.6.0)\r\n",
      "Requirement already satisfied: greenlet>=1 in /usr/local/lib/python3.11/dist-packages (from sqlalchemy<3,>=1.4.0->mlflow==2.11.1) (3.2.3)\r\n",
      "Requirement already satisfied: smmap<6,>=3.0.1 in /usr/local/lib/python3.11/dist-packages (from gitdb<5,>=4.0.1->gitpython<4,>=3.1.9->mlflow==2.11.1) (5.0.2)\r\n",
      "Requirement already satisfied: intel-openmp<2026,>=2024 in /usr/local/lib/python3.11/dist-packages (from mkl->numpy<2->mlflow==2.11.1) (2024.2.0)\r\n",
      "Requirement already satisfied: tbb==2022.* in /usr/local/lib/python3.11/dist-packages (from mkl->numpy<2->mlflow==2.11.1) (2022.2.0)\r\n",
      "Requirement already satisfied: tcmlib==1.* in /usr/local/lib/python3.11/dist-packages (from tbb==2022.*->mkl->numpy<2->mlflow==2.11.1) (1.4.0)\r\n",
      "Requirement already satisfied: intel-cmplr-lib-rt in /usr/local/lib/python3.11/dist-packages (from mkl_umath->numpy<2->mlflow==2.11.1) (2024.2.0)\r\n",
      "Requirement already satisfied: intel-cmplr-lib-ur==2024.2.0 in /usr/local/lib/python3.11/dist-packages (from intel-openmp<2026,>=2024->mkl->numpy<2->mlflow==2.11.1) (2024.2.0)\r\n",
      "Downloading mlflow-2.11.1-py3-none-any.whl (19.7 MB)\r\n",
      "\u001b[2K   \u001b[90m━━━━━━━━━━━━━━━━━━━━━━━━━━━━━━━━━━━━━━━━\u001b[0m \u001b[32m19.7/19.7 MB\u001b[0m \u001b[31m86.6 MB/s\u001b[0m eta \u001b[36m0:00:00\u001b[0m\r\n",
      "\u001b[?25hDownloading graphene-3.4.3-py2.py3-none-any.whl (114 kB)\r\n",
      "\u001b[2K   \u001b[90m━━━━━━━━━━━━━━━━━━━━━━━━━━━━━━━━━━━━━━━━\u001b[0m \u001b[32m114.9/114.9 kB\u001b[0m \u001b[31m6.8 MB/s\u001b[0m eta \u001b[36m0:00:00\u001b[0m\r\n",
      "\u001b[?25hDownloading gunicorn-21.2.0-py3-none-any.whl (80 kB)\r\n",
      "\u001b[2K   \u001b[90m━━━━━━━━━━━━━━━━━━━━━━━━━━━━━━━━━━━━━━━━\u001b[0m \u001b[32m80.2/80.2 kB\u001b[0m \u001b[31m5.3 MB/s\u001b[0m eta \u001b[36m0:00:00\u001b[0m\r\n",
      "\u001b[?25hDownloading importlib_metadata-7.2.1-py3-none-any.whl (25 kB)\r\n",
      "Downloading packaging-23.2-py3-none-any.whl (53 kB)\r\n",
      "\u001b[2K   \u001b[90m━━━━━━━━━━━━━━━━━━━━━━━━━━━━━━━━━━━━━━━━\u001b[0m \u001b[32m53.0/53.0 kB\u001b[0m \u001b[31m3.0 MB/s\u001b[0m eta \u001b[36m0:00:00\u001b[0m\r\n",
      "\u001b[?25hDownloading pyarrow-15.0.2-cp311-cp311-manylinux_2_28_x86_64.whl (38.3 MB)\r\n",
      "\u001b[2K   \u001b[90m━━━━━━━━━━━━━━━━━━━━━━━━━━━━━━━━━━━━━━━━\u001b[0m \u001b[32m38.3/38.3 MB\u001b[0m \u001b[31m46.5 MB/s\u001b[0m eta \u001b[36m0:00:00\u001b[0m\r\n",
      "\u001b[?25hDownloading pytz-2024.2-py2.py3-none-any.whl (508 kB)\r\n",
      "\u001b[2K   \u001b[90m━━━━━━━━━━━━━━━━━━━━━━━━━━━━━━━━━━━━━━━━\u001b[0m \u001b[32m508.0/508.0 kB\u001b[0m \u001b[31m25.6 MB/s\u001b[0m eta \u001b[36m0:00:00\u001b[0m\r\n",
      "\u001b[?25hDownloading querystring_parser-1.2.4-py2.py3-none-any.whl (7.9 kB)\r\n",
      "Downloading graphql_core-3.2.6-py3-none-any.whl (203 kB)\r\n",
      "\u001b[2K   \u001b[90m━━━━━━━━━━━━━━━━━━━━━━━━━━━━━━━━━━━━━━━━\u001b[0m \u001b[32m203.4/203.4 kB\u001b[0m \u001b[31m13.0 MB/s\u001b[0m eta \u001b[36m0:00:00\u001b[0m\r\n",
      "\u001b[?25hDownloading graphql_relay-3.2.0-py3-none-any.whl (16 kB)\r\n",
      "Installing collected packages: pytz, querystring-parser, packaging, importlib-metadata, graphql-core, gunicorn, graphql-relay, graphene, pyarrow, mlflow\r\n",
      "  Attempting uninstall: pytz\r\n",
      "    Found existing installation: pytz 2025.2\r\n",
      "    Uninstalling pytz-2025.2:\r\n",
      "      Successfully uninstalled pytz-2025.2\r\n",
      "  Attempting uninstall: packaging\r\n",
      "    Found existing installation: packaging 25.0\r\n",
      "    Uninstalling packaging-25.0:\r\n",
      "      Successfully uninstalled packaging-25.0\r\n",
      "  Attempting uninstall: importlib-metadata\r\n",
      "    Found existing installation: importlib_metadata 8.7.0\r\n",
      "    Uninstalling importlib_metadata-8.7.0:\r\n",
      "      Successfully uninstalled importlib_metadata-8.7.0\r\n",
      "  Attempting uninstall: pyarrow\r\n",
      "    Found existing installation: pyarrow 19.0.1\r\n",
      "    Uninstalling pyarrow-19.0.1:\r\n",
      "      Successfully uninstalled pyarrow-19.0.1\r\n",
      "\u001b[31mERROR: pip's dependency resolver does not currently take into account all the packages that are installed. This behaviour is the source of the following dependency conflicts.\r\n",
      "bigframes 2.8.0 requires google-cloud-bigquery-storage<3.0.0,>=2.30.0, which is not installed.\r\n",
      "datasets 3.6.0 requires fsspec[http]<=2025.3.0,>=2023.1.0, but you have fsspec 2025.5.1 which is incompatible.\r\n",
      "cesium 0.12.4 requires numpy<3.0,>=2.0, but you have numpy 1.26.4 which is incompatible.\r\n",
      "google-colab 1.0.0 requires google-auth==2.38.0, but you have google-auth 2.40.3 which is incompatible.\r\n",
      "google-colab 1.0.0 requires notebook==6.5.7, but you have notebook 6.5.4 which is incompatible.\r\n",
      "google-colab 1.0.0 requires pandas==2.2.2, but you have pandas 2.2.3 which is incompatible.\r\n",
      "google-colab 1.0.0 requires requests==2.32.3, but you have requests 2.32.4 which is incompatible.\r\n",
      "google-colab 1.0.0 requires tornado==6.4.2, but you have tornado 6.5.1 which is incompatible.\r\n",
      "dopamine-rl 4.1.2 requires gymnasium>=1.0.0, but you have gymnasium 0.29.0 which is incompatible.\r\n",
      "pandas-gbq 0.29.1 requires google-api-core<3.0.0,>=2.10.2, but you have google-api-core 1.34.1 which is incompatible.\r\n",
      "ibis-framework 9.5.0 requires toolz<1,>=0.11, but you have toolz 1.0.0 which is incompatible.\r\n",
      "thinc 8.3.6 requires numpy<3.0.0,>=2.0.0, but you have numpy 1.26.4 which is incompatible.\r\n",
      "plotnine 0.14.5 requires matplotlib>=3.8.0, but you have matplotlib 3.7.2 which is incompatible.\r\n",
      "dataproc-spark-connect 0.7.5 requires google-api-core>=2.19, but you have google-api-core 1.34.1 which is incompatible.\r\n",
      "db-dtypes 1.4.3 requires packaging>=24.2.0, but you have packaging 23.2 which is incompatible.\r\n",
      "bigframes 2.8.0 requires google-cloud-bigquery[bqstorage,pandas]>=3.31.0, but you have google-cloud-bigquery 3.25.0 which is incompatible.\r\n",
      "bigframes 2.8.0 requires rich<14,>=12.4.4, but you have rich 14.0.0 which is incompatible.\r\n",
      "mlxtend 0.23.4 requires scikit-learn>=1.3.1, but you have scikit-learn 1.2.2 which is incompatible.\u001b[0m\u001b[31m\r\n",
      "\u001b[0mSuccessfully installed graphene-3.4.3 graphql-core-3.2.6 graphql-relay-3.2.0 gunicorn-21.2.0 importlib-metadata-7.2.1 mlflow-2.11.1 packaging-23.2 pyarrow-15.0.2 pytz-2024.2 querystring-parser-1.2.4\r\n"
     ]
    }
   ],
   "source": [
    "!pip install mlflow==2.11.1 pynvml psutil"
   ]
  },
  {
   "cell_type": "markdown",
   "id": "b74b48cd",
   "metadata": {
    "papermill": {
     "duration": 0.006431,
     "end_time": "2025-09-20T12:43:25.124575",
     "exception": false,
     "start_time": "2025-09-20T12:43:25.118144",
     "status": "completed"
    },
    "tags": []
   },
   "source": [
    "# Imports"
   ]
  },
  {
   "cell_type": "code",
   "execution_count": 2,
   "id": "8c19cd8e",
   "metadata": {
    "execution": {
     "iopub.execute_input": "2025-09-20T12:43:25.138781Z",
     "iopub.status.busy": "2025-09-20T12:43:25.138503Z",
     "iopub.status.idle": "2025-09-20T12:43:45.688890Z",
     "shell.execute_reply": "2025-09-20T12:43:45.688235Z"
    },
    "papermill": {
     "duration": 20.559339,
     "end_time": "2025-09-20T12:43:45.690292",
     "exception": false,
     "start_time": "2025-09-20T12:43:25.130953",
     "status": "completed"
    },
    "tags": []
   },
   "outputs": [],
   "source": [
    "# --- IMPORTS ---\n",
    "\n",
    "# Standard Libraries\n",
    "import os\n",
    "import time\n",
    "import copy\n",
    "import zipfile\n",
    "\n",
    "# Core Libraries\n",
    "import torch\n",
    "import torch.nn as nn\n",
    "import torch.optim as optim\n",
    "from torch.optim.lr_scheduler import CosineAnnealingLR\n",
    "from torch.utils.data import DataLoader\n",
    "from torchvision import datasets, models, transforms\n",
    "from torch.amp import GradScaler, autocast\n",
    "import numpy as np\n",
    "\n",
    "# Visualization and Progress\n",
    "import matplotlib.pyplot as plt\n",
    "from tqdm import tqdm\n",
    "import seaborn as sns\n",
    "\n",
    "# Experiment Tracking\n",
    "import mlflow\n",
    "import mlflow.pytorch\n",
    "import mlflow.system_metrics\n",
    "import mlflow.data\n",
    "\n",
    "from mlflow.data.meta_dataset import MetaDataset\n",
    "from mlflow.data.http_dataset_source import HTTPDatasetSource\n",
    "from mlflow.types import Schema, ColSpec, DataType\n",
    "\n",
    "# Metrics\n",
    "from sklearn.metrics import precision_score, recall_score, f1_score, confusion_matrix"
   ]
  },
  {
   "cell_type": "markdown",
   "id": "5182ca7e",
   "metadata": {
    "papermill": {
     "duration": 0.006339,
     "end_time": "2025-09-20T12:43:45.704129",
     "exception": false,
     "start_time": "2025-09-20T12:43:45.697790",
     "status": "completed"
    },
    "tags": []
   },
   "source": [
    "# Configs"
   ]
  },
  {
   "cell_type": "code",
   "execution_count": 3,
   "id": "6ddbeb7d",
   "metadata": {
    "execution": {
     "iopub.execute_input": "2025-09-20T12:43:45.718678Z",
     "iopub.status.busy": "2025-09-20T12:43:45.717878Z",
     "iopub.status.idle": "2025-09-20T12:43:45.722811Z",
     "shell.execute_reply": "2025-09-20T12:43:45.722015Z"
    },
    "papermill": {
     "duration": 0.013412,
     "end_time": "2025-09-20T12:43:45.724027",
     "exception": false,
     "start_time": "2025-09-20T12:43:45.710615",
     "status": "completed"
    },
    "tags": []
   },
   "outputs": [],
   "source": [
    "# --- 1. MASTER CONFIGURATION BLOCK ---\n",
    "# Change parameters here for each new experiment\n",
    "\n",
    "# --- MLflow Configuration ---\n",
    "EXPERIMENT_NAME = \"Pneumonia Classification\"\n",
    "RUN_TAG = \"Full Run - 20 Epochs\" # Descriptive tag for this group of runs\n",
    "\n",
    "# --- Model Selection ---\n",
    "MODELS_TO_TRAIN = [\n",
    "    'resnet50',\n",
    "    'resnext50', \n",
    "    'efficientnet_v2_s', \n",
    "    'convnext_tiny', \n",
    "    'vit_b_16',\n",
    "    'swin_t'\n",
    "]\n",
    "\n",
    "# --- Dataset Configuration ---\n",
    "DATA_DIR = '/kaggle/input/chest-xray-pneumonia/chest_xray'\n",
    "\n",
    "# --- Training Hyperparameters ---\n",
    "NUM_EPOCHS = 20\n",
    "BATCH_SIZE = 16\n",
    "\n",
    "# --- Optimizer Configuration ---\n",
    "OPTIMIZER_TYPE = 'AdamW' # Options: 'AdamW', 'Adam', 'SGD'\n",
    "LEARNING_RATE = 0.0001\n",
    "WEIGHT_DECAY = 1e-2\n",
    "\n",
    "# --- Loss Function Configuration ---\n",
    "LOSS_FUNCTION_TYPE = 'weighted'\n",
    "\n",
    "# --- Learning Rate Scheduler Configuration ---\n",
    "SCHEDULER_TYPE = 'cosine'"
   ]
  },
  {
   "cell_type": "markdown",
   "id": "621c50ec",
   "metadata": {
    "papermill": {
     "duration": 0.006162,
     "end_time": "2025-09-20T12:43:45.736770",
     "exception": false,
     "start_time": "2025-09-20T12:43:45.730608",
     "status": "completed"
    },
    "tags": []
   },
   "source": [
    "# Data Handling"
   ]
  },
  {
   "cell_type": "markdown",
   "id": "0f526492",
   "metadata": {
    "papermill": {
     "duration": 0.006139,
     "end_time": "2025-09-20T12:43:45.749294",
     "exception": false,
     "start_time": "2025-09-20T12:43:45.743155",
     "status": "completed"
    },
    "tags": []
   },
   "source": [
    "## Dataset Metadata"
   ]
  },
  {
   "cell_type": "code",
   "execution_count": 4,
   "id": "eb2ec179",
   "metadata": {
    "execution": {
     "iopub.execute_input": "2025-09-20T12:43:45.763063Z",
     "iopub.status.busy": "2025-09-20T12:43:45.762776Z",
     "iopub.status.idle": "2025-09-20T12:43:45.767285Z",
     "shell.execute_reply": "2025-09-20T12:43:45.766723Z"
    },
    "papermill": {
     "duration": 0.012855,
     "end_time": "2025-09-20T12:43:45.768468",
     "exception": false,
     "start_time": "2025-09-20T12:43:45.755613",
     "status": "completed"
    },
    "tags": []
   },
   "outputs": [],
   "source": [
    "DATA_SOURCE = HTTPDatasetSource(\n",
    "    url=\"https://www.kaggle.com/datasets/paultimothymooney/chest-xray-pneumonia\"\n",
    ")\n",
    "\n",
    "# Option 1: Simple metadata dataset\n",
    "META_DATASET = MetaDataset(source=DATA_SOURCE, name=\"chest-xray-pneumonia\")\n",
    "\n",
    "# Option 2: With schema information\n",
    "DATASET_SCHEMA = Schema(\n",
    "    [\n",
    "        ColSpec(type=DataType.string, name=\"text\"),\n",
    "        ColSpec(type=DataType.integer, name=\"label\"),\n",
    "    ]\n",
    ")\n",
    "\n",
    "META_DATA_W_SCHEMA = MetaDataset(\n",
    "    source=DATA_SOURCE, name=\"chest-xray-pneumonia\", schema=DATASET_SCHEMA\n",
    ")\n"
   ]
  },
  {
   "cell_type": "markdown",
   "id": "39aee47b",
   "metadata": {
    "papermill": {
     "duration": 0.006088,
     "end_time": "2025-09-20T12:43:45.780857",
     "exception": false,
     "start_time": "2025-09-20T12:43:45.774769",
     "status": "completed"
    },
    "tags": []
   },
   "source": [
    "## Dataset Transformation"
   ]
  },
  {
   "cell_type": "code",
   "execution_count": 5,
   "id": "2aee4302",
   "metadata": {
    "execution": {
     "iopub.execute_input": "2025-09-20T12:43:45.794972Z",
     "iopub.status.busy": "2025-09-20T12:43:45.794255Z",
     "iopub.status.idle": "2025-09-20T12:43:53.306564Z",
     "shell.execute_reply": "2025-09-20T12:43:53.305706Z"
    },
    "papermill": {
     "duration": 7.520791,
     "end_time": "2025-09-20T12:43:53.307875",
     "exception": false,
     "start_time": "2025-09-20T12:43:45.787084",
     "status": "completed"
    },
    "tags": []
   },
   "outputs": [
    {
     "name": "stdout",
     "output_type": "stream",
     "text": [
      "Classes: ['NORMAL', 'PNEUMONIA']\n",
      "Using device: cuda:0\n"
     ]
    }
   ],
   "source": [
    "# --- 2. DATA LOADING & TRANSFORMATION ---\n",
    "\n",
    "# Define transformations\n",
    "data_transforms = {\n",
    "    'train': transforms.Compose([\n",
    "        transforms.RandomResizedCrop(224),\n",
    "        transforms.RandomHorizontalFlip(),\n",
    "        transforms.RandomRotation(10),\n",
    "        transforms.ToTensor(),\n",
    "        transforms.Normalize([0.485, 0.456, 0.406], [0.229, 0.224, 0.225])\n",
    "    ]),\n",
    "    'val': transforms.Compose([\n",
    "        transforms.Resize(256),\n",
    "        transforms.CenterCrop(224),\n",
    "        transforms.ToTensor(),\n",
    "        transforms.Normalize([0.485, 0.456, 0.406], [0.229, 0.224, 0.225])\n",
    "    ]),\n",
    "    'test': transforms.Compose([\n",
    "        transforms.Resize(256),\n",
    "        transforms.CenterCrop(224),\n",
    "        transforms.ToTensor(),\n",
    "        transforms.Normalize([0.485, 0.456, 0.406], [0.229, 0.224, 0.225])\n",
    "    ]),\n",
    "}\n",
    "\n",
    "# Create datasets and dataloaders\n",
    "image_datasets = {x: datasets.ImageFolder(os.path.join(DATA_DIR, x), data_transforms[x]) for x in ['train', 'val', 'test']}\n",
    "dataloaders = {x: DataLoader(image_datasets[x], batch_size=BATCH_SIZE, shuffle=True, num_workers=4) for x in ['train', 'val', 'test']}\n",
    "dataset_sizes = {x: len(image_datasets[x]) for x in ['train', 'val', 'test']}\n",
    "class_names = image_datasets['train'].classes\n",
    "num_classes = len(class_names)\n",
    "\n",
    "# Set device\n",
    "device = torch.device(\"cuda:0\" if torch.cuda.is_available() else \"cpu\")\n",
    "\n",
    "print(f\"Classes: {class_names}\")\n",
    "print(f\"Using device: {device}\")"
   ]
  },
  {
   "cell_type": "markdown",
   "id": "58338874",
   "metadata": {
    "papermill": {
     "duration": 0.006358,
     "end_time": "2025-09-20T12:43:53.321252",
     "exception": false,
     "start_time": "2025-09-20T12:43:53.314894",
     "status": "completed"
    },
    "tags": []
   },
   "source": [
    "## Data Loading"
   ]
  },
  {
   "cell_type": "code",
   "execution_count": 6,
   "id": "709a2845",
   "metadata": {
    "execution": {
     "iopub.execute_input": "2025-09-20T12:43:53.335515Z",
     "iopub.status.busy": "2025-09-20T12:43:53.335033Z",
     "iopub.status.idle": "2025-09-20T12:43:54.655327Z",
     "shell.execute_reply": "2025-09-20T12:43:54.654523Z"
    },
    "papermill": {
     "duration": 1.328999,
     "end_time": "2025-09-20T12:43:54.656752",
     "exception": false,
     "start_time": "2025-09-20T12:43:53.327753",
     "status": "completed"
    },
    "tags": []
   },
   "outputs": [
    {
     "name": "stdout",
     "output_type": "stream",
     "text": [
      "Classes: ['NORMAL', 'PNEUMONIA']\n",
      "Training data size: 5216\n",
      "Validation data size: 16\n",
      "Using device: cuda:0\n"
     ]
    }
   ],
   "source": [
    "# Create datasets and dataloaders\n",
    "image_datasets = {x: datasets.ImageFolder(os.path.join(DATA_DIR, x), data_transforms[x]) for x in ['train', 'val', 'test']}\n",
    "dataloaders = {x: DataLoader(image_datasets[x], batch_size=BATCH_SIZE, shuffle=True, num_workers=4) for x in ['train', 'val', 'test']}\n",
    "dataset_sizes = {x: len(image_datasets[x]) for x in ['train', 'val', 'test']}\n",
    "class_names = image_datasets['train'].classes\n",
    "num_classes = len(class_names)\n",
    "\n",
    "print(f\"Classes: {class_names}\")\n",
    "print(f\"Training data size: {dataset_sizes['train']}\")\n",
    "print(f\"Validation data size: {dataset_sizes['val']}\")\n",
    "\n",
    "# Set device (GPU if available, otherwise CPU)\n",
    "device = torch.device(\"cuda:0\" if torch.cuda.is_available() else \"cpu\")\n",
    "print(f\"Using device: {device}\")"
   ]
  },
  {
   "cell_type": "markdown",
   "id": "de4267f6",
   "metadata": {
    "papermill": {
     "duration": 0.0065,
     "end_time": "2025-09-20T12:43:54.670204",
     "exception": false,
     "start_time": "2025-09-20T12:43:54.663704",
     "status": "completed"
    },
    "tags": []
   },
   "source": [
    "# Helper Functions"
   ]
  },
  {
   "cell_type": "markdown",
   "id": "a5a536cc",
   "metadata": {
    "papermill": {
     "duration": 0.006462,
     "end_time": "2025-09-20T12:43:54.683357",
     "exception": false,
     "start_time": "2025-09-20T12:43:54.676895",
     "status": "completed"
    },
    "tags": []
   },
   "source": [
    "## Model Loading"
   ]
  },
  {
   "cell_type": "code",
   "execution_count": 7,
   "id": "c05db9f6",
   "metadata": {
    "execution": {
     "iopub.execute_input": "2025-09-20T12:43:54.698033Z",
     "iopub.status.busy": "2025-09-20T12:43:54.697431Z",
     "iopub.status.idle": "2025-09-20T12:43:54.703539Z",
     "shell.execute_reply": "2025-09-20T12:43:54.702955Z"
    },
    "papermill": {
     "duration": 0.014647,
     "end_time": "2025-09-20T12:43:54.704686",
     "exception": false,
     "start_time": "2025-09-20T12:43:54.690039",
     "status": "completed"
    },
    "tags": []
   },
   "outputs": [],
   "source": [
    "def get_model(model_name, num_classes):\n",
    "    \"\"\"Loads a pretrained model and replaces the final layer.\"\"\"\n",
    "    model = None\n",
    "    if model_name == 'resnet50':\n",
    "        model = models.resnet50(weights='DEFAULT')\n",
    "        num_ftrs = model.fc.in_features\n",
    "        model.fc = nn.Linear(num_ftrs, num_classes)\n",
    "    elif model_name == 'resnext50':\n",
    "        model = models.resnext50_32x4d(weights='DEFAULT')\n",
    "        num_ftrs = model.fc.in_features\n",
    "        model.fc = nn.Linear(num_ftrs, num_classes)\n",
    "    elif model_name == 'efficientnet_v2_s':\n",
    "        model = models.efficientnet_v2_s(weights='DEFAULT')\n",
    "        num_ftrs = model.classifier[1].in_features\n",
    "        model.classifier[1] = nn.Linear(num_ftrs, num_classes)\n",
    "    elif model_name == 'vit_b_16':\n",
    "        model = models.vit_b_16(weights='DEFAULT')\n",
    "        num_ftrs = model.heads.head.in_features\n",
    "        model.heads.head = nn.Linear(num_ftrs, num_classes)\n",
    "    elif model_name == 'convnext_tiny':\n",
    "        model = models.convnext_tiny(weights='DEFAULT')\n",
    "        num_ftrs = model.classifier[2].in_features\n",
    "        model.classifier[2] = nn.Linear(num_ftrs, num_classes)\n",
    "    elif model_name == 'swin_t':\n",
    "        model = models.swin_t(weights='DEFAULT')\n",
    "        num_ftrs = model.head.in_features\n",
    "        model.head = nn.Linear(num_ftrs, num_classes)\n",
    "    else:\n",
    "        raise ValueError(f\"Model name '{model_name}' not recognized.\")\n",
    "    return model.to(device)"
   ]
  },
  {
   "cell_type": "markdown",
   "id": "0adf6c4d",
   "metadata": {
    "papermill": {
     "duration": 0.006202,
     "end_time": "2025-09-20T12:43:54.717625",
     "exception": false,
     "start_time": "2025-09-20T12:43:54.711423",
     "status": "completed"
    },
    "tags": []
   },
   "source": [
    "## Training Function"
   ]
  },
  {
   "cell_type": "code",
   "execution_count": 8,
   "id": "0b60dfd0",
   "metadata": {
    "execution": {
     "iopub.execute_input": "2025-09-20T12:43:54.731954Z",
     "iopub.status.busy": "2025-09-20T12:43:54.731712Z",
     "iopub.status.idle": "2025-09-20T12:43:54.742468Z",
     "shell.execute_reply": "2025-09-20T12:43:54.741830Z"
    },
    "papermill": {
     "duration": 0.01947,
     "end_time": "2025-09-20T12:43:54.743603",
     "exception": false,
     "start_time": "2025-09-20T12:43:54.724133",
     "status": "completed"
    },
    "tags": []
   },
   "outputs": [],
   "source": [
    "def train_model(model, criterion, optimizer, scheduler, num_epochs=10):\n",
    "    since = time.time()\n",
    "    scaler = torch.amp.GradScaler(\"cuda\")\n",
    "    history = {'train_loss': [], 'train_acc': [], 'val_loss': [], 'val_acc': []}\n",
    "    best_model_wts = copy.deepcopy(model.state_dict())\n",
    "    best_acc = 0.0\n",
    "    best_val_preds, best_val_labels = None, None\n",
    "\n",
    "    for epoch in range(num_epochs):\n",
    "        print(f'Epoch {epoch+1}/{num_epochs}'); print('-' * 10)\n",
    "        for phase in ['train', 'val']:\n",
    "            model.train() if phase == 'train' else model.eval()\n",
    "            running_loss, running_corrects = 0.0, 0\n",
    "            epoch_labels, epoch_preds = [], []\n",
    "            \n",
    "            progress_bar = tqdm(dataloaders[phase], desc=f'{phase.capitalize()} Epoch {epoch+1}/{num_epochs}')\n",
    "            for inputs, labels in progress_bar:\n",
    "                inputs, labels = inputs.to(device), labels.to(device)\n",
    "                optimizer.zero_grad()\n",
    "                with torch.amp.autocast(device_type=\"cuda\"):\n",
    "                    outputs = model(inputs)\n",
    "                    _, preds = torch.max(outputs, 1)\n",
    "                    loss = criterion(outputs, labels)\n",
    "                if phase == 'train':\n",
    "                    scaler.scale(loss).backward(); scaler.step(optimizer); scaler.update()\n",
    "                \n",
    "                running_loss += loss.item() * inputs.size(0)\n",
    "                running_corrects += torch.sum(preds == labels.data)\n",
    "                epoch_labels.extend(labels.cpu().numpy()); epoch_preds.extend(preds.cpu().numpy())\n",
    "                progress_bar.set_postfix(loss=loss.item())\n",
    "\n",
    "            epoch_loss = running_loss / dataset_sizes[phase]\n",
    "            epoch_acc = running_corrects.double() / dataset_sizes[phase]\n",
    "            print(f'{phase} Loss: {epoch_loss:.4f} Acc: {epoch_acc:.4f}')\n",
    "\n",
    "            if phase == 'train':\n",
    "                history['train_loss'].append(epoch_loss); history['train_acc'].append(epoch_acc.item())\n",
    "                mlflow.log_metric(\"train_loss\", epoch_loss, step=epoch)\n",
    "                mlflow.log_metric(\"train_acc\", epoch_acc.item(), step=epoch)\n",
    "            else:\n",
    "                history['val_loss'].append(epoch_loss); history['val_acc'].append(epoch_acc.item())\n",
    "                mlflow.log_metric(\"val_loss\", epoch_loss, step=epoch)\n",
    "                mlflow.log_metric(\"val_acc\", epoch_acc.item(), step=epoch)\n",
    "                val_precision = precision_score(epoch_labels, epoch_preds, average='macro', zero_division=0)\n",
    "                val_recall = recall_score(epoch_labels, epoch_preds, average='macro', zero_division=0)\n",
    "                val_f1 = f1_score(epoch_labels, epoch_preds, average='macro', zero_division=0)\n",
    "                mlflow.log_metric(\"val_precision\", val_precision, step=epoch)\n",
    "                mlflow.log_metric(\"val_recall\", val_recall, step=epoch)\n",
    "                mlflow.log_metric(\"val_f1\", val_f1, step=epoch)\n",
    "                if epoch_acc > best_acc:\n",
    "                    best_acc = epoch_acc; best_model_wts = copy.deepcopy(model.state_dict())\n",
    "                    best_val_preds, best_val_labels = epoch_preds, epoch_labels\n",
    "        \n",
    "        scheduler.step()\n",
    "        mlflow.log_metric(\"learning_rate\", optimizer.param_groups[0]['lr'], step=epoch)\n",
    "        print()\n",
    "\n",
    "    time_elapsed = time.time() - since\n",
    "    print(f'Training complete in {time_elapsed // 60:.0f}m {time_elapsed % 60:.0f}s')\n",
    "    print(f'Best val Acc: {best_acc:4f}')\n",
    "    mlflow.log_metric(\"best_val_acc\", best_acc.item())\n",
    "    model.load_state_dict(best_model_wts)\n",
    "    return model, history, best_val_labels, best_val_preds"
   ]
  },
  {
   "cell_type": "markdown",
   "id": "812f4701",
   "metadata": {
    "papermill": {
     "duration": 0.007775,
     "end_time": "2025-09-20T12:43:54.758791",
     "exception": false,
     "start_time": "2025-09-20T12:43:54.751016",
     "status": "completed"
    },
    "tags": []
   },
   "source": [
    "## Testing Function"
   ]
  },
  {
   "cell_type": "code",
   "execution_count": 9,
   "id": "03c4bb15",
   "metadata": {
    "execution": {
     "iopub.execute_input": "2025-09-20T12:43:54.774233Z",
     "iopub.status.busy": "2025-09-20T12:43:54.773670Z",
     "iopub.status.idle": "2025-09-20T12:43:54.779565Z",
     "shell.execute_reply": "2025-09-20T12:43:54.778726Z"
    },
    "papermill": {
     "duration": 0.015201,
     "end_time": "2025-09-20T12:43:54.780795",
     "exception": false,
     "start_time": "2025-09-20T12:43:54.765594",
     "status": "completed"
    },
    "tags": []
   },
   "outputs": [],
   "source": [
    "def test_model(model, criterion):\n",
    "    model.eval(); running_loss, running_corrects = 0.0, 0\n",
    "    progress_bar = tqdm(dataloaders['test'], desc='Testing')\n",
    "    with torch.no_grad():\n",
    "        for inputs, labels in progress_bar:\n",
    "            inputs, labels = inputs.to(device), labels.to(device)\n",
    "            with torch.amp.autocast(device_type=\"cuda\"):\n",
    "                outputs = model(inputs); _, preds = torch.max(outputs, 1); loss = criterion(outputs, labels)\n",
    "            running_loss += loss.item() * inputs.size(0)\n",
    "            running_corrects += torch.sum(preds == labels.data)\n",
    "            progress_bar.set_postfix(loss=loss.item())\n",
    "    test_loss = running_loss / dataset_sizes['test']\n",
    "    test_acc = running_corrects.double() / dataset_sizes['test']\n",
    "    print(f'\\nTest Results:\\nTest Loss: {test_loss:.4f}\\nTest Accuracy: {test_acc:.4f} ({running_corrects}/{dataset_sizes[\"test\"]})')\n",
    "    return test_loss, test_acc.item()"
   ]
  },
  {
   "cell_type": "markdown",
   "id": "76b6ed63",
   "metadata": {
    "execution": {
     "iopub.execute_input": "2025-09-20T10:43:24.353308Z",
     "iopub.status.busy": "2025-09-20T10:43:24.352671Z",
     "iopub.status.idle": "2025-09-20T10:43:24.356211Z",
     "shell.execute_reply": "2025-09-20T10:43:24.355538Z",
     "shell.execute_reply.started": "2025-09-20T10:43:24.353284Z"
    },
    "papermill": {
     "duration": 0.00627,
     "end_time": "2025-09-20T12:43:54.793965",
     "exception": false,
     "start_time": "2025-09-20T12:43:54.787695",
     "status": "completed"
    },
    "tags": []
   },
   "source": [
    "## Plotting"
   ]
  },
  {
   "cell_type": "code",
   "execution_count": 10,
   "id": "39baa9dd",
   "metadata": {
    "execution": {
     "iopub.execute_input": "2025-09-20T12:43:54.808458Z",
     "iopub.status.busy": "2025-09-20T12:43:54.807804Z",
     "iopub.status.idle": "2025-09-20T12:43:54.813741Z",
     "shell.execute_reply": "2025-09-20T12:43:54.812990Z"
    },
    "papermill": {
     "duration": 0.014404,
     "end_time": "2025-09-20T12:43:54.814927",
     "exception": false,
     "start_time": "2025-09-20T12:43:54.800523",
     "status": "completed"
    },
    "tags": []
   },
   "outputs": [],
   "source": [
    "def plot_metrics(history, model_name):\n",
    "    fig, (ax1, ax2) = plt.subplots(1, 2, figsize=(15, 5))\n",
    "    fig.suptitle(f'Metrics for {model_name.capitalize()}', fontsize=16)\n",
    "    ax1.plot(history['train_acc']); ax1.plot(history['val_acc'])\n",
    "    ax1.set_title('Model accuracy'); ax1.set_ylabel('Accuracy'); ax1.set_xlabel('Epoch'); ax1.legend(['Train', 'Validation'], loc='upper left')\n",
    "    ax2.plot(history['train_loss']); ax2.plot(history['val_loss'])\n",
    "    ax2.set_title('Model loss'); ax2.set_ylabel('Loss'); ax2.set_xlabel('Epoch'); ax2.legend(['Train', 'Validation'], loc='upper left')\n",
    "    save_path = f'{model_name}_training_metrics.png'\n",
    "    plt.savefig(save_path); print(f\"Metrics plot saved to {save_path}\"); plt.show(); plt.close(fig)\n",
    "    return save_path"
   ]
  },
  {
   "cell_type": "code",
   "execution_count": 11,
   "id": "d27a3d6c",
   "metadata": {
    "execution": {
     "iopub.execute_input": "2025-09-20T12:43:54.830000Z",
     "iopub.status.busy": "2025-09-20T12:43:54.829365Z",
     "iopub.status.idle": "2025-09-20T12:43:54.834291Z",
     "shell.execute_reply": "2025-09-20T12:43:54.833581Z"
    },
    "papermill": {
     "duration": 0.013706,
     "end_time": "2025-09-20T12:43:54.835424",
     "exception": false,
     "start_time": "2025-09-20T12:43:54.821718",
     "status": "completed"
    },
    "tags": []
   },
   "outputs": [],
   "source": [
    "def log_confusion_matrix(labels, preds, model_name):\n",
    "    cm = confusion_matrix(labels, preds)\n",
    "    fig = plt.figure(figsize=(8, 6))\n",
    "    sns.heatmap(cm, annot=True, fmt='d', cmap='Blues', xticklabels=class_names, yticklabels=class_names)\n",
    "    plt.xlabel('Predicted'); plt.ylabel('True'); plt.title(f'Confusion Matrix for {model_name.capitalize()} (Best Epoch)')\n",
    "    save_path = f\"{model_name}_confusion_matrix.png\"\n",
    "    plt.savefig(save_path); print(f\"Confusion matrix saved to {save_path}\"); plt.close(fig)\n",
    "    return save_path"
   ]
  },
  {
   "cell_type": "markdown",
   "id": "3ca5484e",
   "metadata": {
    "papermill": {
     "duration": 0.006507,
     "end_time": "2025-09-20T12:43:54.848661",
     "exception": false,
     "start_time": "2025-09-20T12:43:54.842154",
     "status": "completed"
    },
    "tags": []
   },
   "source": [
    "## Saving Models"
   ]
  },
  {
   "cell_type": "code",
   "execution_count": 12,
   "id": "b6b1c0af",
   "metadata": {
    "execution": {
     "iopub.execute_input": "2025-09-20T12:43:54.862948Z",
     "iopub.status.busy": "2025-09-20T12:43:54.862435Z",
     "iopub.status.idle": "2025-09-20T12:43:54.866486Z",
     "shell.execute_reply": "2025-09-20T12:43:54.865707Z"
    },
    "papermill": {
     "duration": 0.012628,
     "end_time": "2025-09-20T12:43:54.867807",
     "exception": false,
     "start_time": "2025-09-20T12:43:54.855179",
     "status": "completed"
    },
    "tags": []
   },
   "outputs": [],
   "source": [
    "def save_model(model, model_name):\n",
    "    save_path = f\"{model_name}_best.pth\"\n",
    "    torch.save(model.state_dict(), save_path); print(f\"Model saved to {save_path}\")\n",
    "    return save_path"
   ]
  },
  {
   "cell_type": "markdown",
   "id": "4dc61212",
   "metadata": {
    "papermill": {
     "duration": 0.006308,
     "end_time": "2025-09-20T12:43:54.880904",
     "exception": false,
     "start_time": "2025-09-20T12:43:54.874596",
     "status": "completed"
    },
    "tags": []
   },
   "source": [
    "## Visualising Results"
   ]
  },
  {
   "cell_type": "code",
   "execution_count": 13,
   "id": "667e9856",
   "metadata": {
    "execution": {
     "iopub.execute_input": "2025-09-20T12:43:54.895469Z",
     "iopub.status.busy": "2025-09-20T12:43:54.894853Z",
     "iopub.status.idle": "2025-09-20T12:43:54.901943Z",
     "shell.execute_reply": "2025-09-20T12:43:54.901179Z"
    },
    "papermill": {
     "duration": 0.015619,
     "end_time": "2025-09-20T12:43:54.903236",
     "exception": false,
     "start_time": "2025-09-20T12:43:54.887617",
     "status": "completed"
    },
    "tags": []
   },
   "outputs": [],
   "source": [
    "def visualize_model_predictions(model, model_name, num_images=10):\n",
    "    print(f\"\\n--- Visualizing Predictions for: {model_name.upper()} ---\")\n",
    "    model.eval(); model = model.to(device)\n",
    "    images_so_far = 0; fig = plt.figure(figsize=(15, 7))\n",
    "    with torch.no_grad():\n",
    "        for i, (inputs, labels) in enumerate(dataloaders['test']):\n",
    "            inputs, labels = inputs.to(device), labels.to(device)\n",
    "            with torch.amp.autocast(device_type=\"cuda\"):\n",
    "                outputs = model(inputs); _, preds = torch.max(outputs, 1)\n",
    "            for j in range(inputs.size()[0]):\n",
    "                images_so_far += 1\n",
    "                ax = plt.subplot(num_images//2, 2, images_so_far); ax.axis('off')\n",
    "                is_correct = preds[j] == labels[j]\n",
    "                prediction_color = 'green' if is_correct else 'red'\n",
    "                ax.set_title(f'True: {class_names[labels[j]]} | Pred: {class_names[preds[j]]}', color=prediction_color)\n",
    "                img = inputs.cpu().data[j].numpy().transpose((1, 2, 0))\n",
    "                mean, std = np.array([0.485, 0.456, 0.406]), np.array([0.229, 0.224, 0.225])\n",
    "                img = std * img + mean; img = np.clip(img, 0, 1)\n",
    "                ax.imshow(img)\n",
    "                if images_so_far == num_images:\n",
    "                    fig.tight_layout(); plt.show(); plt.close(fig); return"
   ]
  },
  {
   "cell_type": "code",
   "execution_count": 14,
   "id": "c663ed9d",
   "metadata": {
    "execution": {
     "iopub.execute_input": "2025-09-20T12:43:54.978163Z",
     "iopub.status.busy": "2025-09-20T12:43:54.977660Z",
     "iopub.status.idle": "2025-09-20T12:43:54.982561Z",
     "shell.execute_reply": "2025-09-20T12:43:54.981938Z"
    },
    "papermill": {
     "duration": 0.013646,
     "end_time": "2025-09-20T12:43:54.983714",
     "exception": false,
     "start_time": "2025-09-20T12:43:54.970068",
     "status": "completed"
    },
    "tags": []
   },
   "outputs": [],
   "source": [
    "def display_results_table(results):\n",
    "    \"\"\"Prints a formatted table of model performance from a dictionary.\"\"\"\n",
    "    print(\"\\n--- Experiment Results Summary ---\")\n",
    "    # Define table headers\n",
    "    header = f\"| {'Model Name':<20} | {'Test Accuracy (%)':<20} | {'Test Loss':<15} | {'Best Val Acc (%)':<20} |\"\n",
    "    separator = \"-\" * len(header)\n",
    "    print(separator)\n",
    "    print(header)\n",
    "    print(separator)\n",
    "    \n",
    "    # Print each result row\n",
    "    for model_name, metrics in results.items():\n",
    "        acc_percent = metrics['test_acc'] * 100\n",
    "        val_acc_percent = metrics['best_val_acc'] * 100\n",
    "        row = f\"| {model_name:<20} | {acc_percent:<20.2f} | {metrics['test_loss']:<15.4f} | {val_acc_percent:<20.2f} |\"\n",
    "        print(row)\n",
    "    \n",
    "    print(separator)"
   ]
  },
  {
   "cell_type": "markdown",
   "id": "83e72ee7",
   "metadata": {
    "papermill": {
     "duration": 0.006851,
     "end_time": "2025-09-20T12:43:54.997411",
     "exception": false,
     "start_time": "2025-09-20T12:43:54.990560",
     "status": "completed"
    },
    "tags": []
   },
   "source": [
    "# Main Experiment"
   ]
  },
  {
   "cell_type": "code",
   "execution_count": 15,
   "id": "c9b26fca",
   "metadata": {
    "execution": {
     "iopub.execute_input": "2025-09-20T12:43:55.011968Z",
     "iopub.status.busy": "2025-09-20T12:43:55.011723Z",
     "iopub.status.idle": "2025-09-20T15:54:39.665554Z",
     "shell.execute_reply": "2025-09-20T15:54:39.664692Z"
    },
    "papermill": {
     "duration": 11447.562401,
     "end_time": "2025-09-20T15:54:42.566425",
     "exception": false,
     "start_time": "2025-09-20T12:43:55.004024",
     "status": "completed"
    },
    "tags": []
   },
   "outputs": [
    {
     "name": "stderr",
     "output_type": "stream",
     "text": [
      "2025/09/20 12:43:55 INFO mlflow.tracking.fluent: Experiment with name 'Pneumonia Classification' does not exist. Creating a new experiment.\n"
     ]
    },
    {
     "name": "stdout",
     "output_type": "stream",
     "text": [
      "Using weighted loss. Class weights: tensor([1.9448, 0.6730], device='cuda:0')\n"
     ]
    },
    {
     "name": "stderr",
     "output_type": "stream",
     "text": [
      "2025/09/20 12:43:56 INFO mlflow.system_metrics.system_metrics_monitor: Started monitoring system metrics.\n"
     ]
    },
    {
     "name": "stdout",
     "output_type": "stream",
     "text": [
      "\n",
      "=========================\n",
      "  STARTING MLFLOW RUN FOR: RESNET50\n",
      "=========================\n",
      "\n"
     ]
    },
    {
     "name": "stderr",
     "output_type": "stream",
     "text": [
      "Downloading: \"https://download.pytorch.org/models/resnet50-11ad3fa6.pth\" to /root/.cache/torch/hub/checkpoints/resnet50-11ad3fa6.pth\n",
      "100%|██████████| 97.8M/97.8M [00:00<00:00, 199MB/s]\n"
     ]
    },
    {
     "name": "stdout",
     "output_type": "stream",
     "text": [
      "Epoch 1/20\n",
      "----------\n"
     ]
    },
    {
     "name": "stderr",
     "output_type": "stream",
     "text": [
      "Train Epoch 1/20: 100%|██████████| 326/326 [00:41<00:00,  7.87it/s, loss=0.154]\n"
     ]
    },
    {
     "name": "stdout",
     "output_type": "stream",
     "text": [
      "train Loss: 0.3106 Acc: 0.8756\n"
     ]
    },
    {
     "name": "stderr",
     "output_type": "stream",
     "text": [
      "Val Epoch 1/20: 100%|██████████| 1/1 [00:00<00:00,  1.95it/s, loss=1.4]\n"
     ]
    },
    {
     "name": "stdout",
     "output_type": "stream",
     "text": [
      "val Loss: 1.3997 Acc: 0.6250\n",
      "\n",
      "Epoch 2/20\n",
      "----------\n"
     ]
    },
    {
     "name": "stderr",
     "output_type": "stream",
     "text": [
      "Train Epoch 2/20: 100%|██████████| 326/326 [00:38<00:00,  8.39it/s, loss=0.196]\n"
     ]
    },
    {
     "name": "stdout",
     "output_type": "stream",
     "text": [
      "train Loss: 0.2111 Acc: 0.9155\n"
     ]
    },
    {
     "name": "stderr",
     "output_type": "stream",
     "text": [
      "Val Epoch 2/20: 100%|██████████| 1/1 [00:00<00:00,  2.15it/s, loss=0.459]\n"
     ]
    },
    {
     "name": "stdout",
     "output_type": "stream",
     "text": [
      "val Loss: 0.4593 Acc: 0.8125\n",
      "\n",
      "Epoch 3/20\n",
      "----------\n"
     ]
    },
    {
     "name": "stderr",
     "output_type": "stream",
     "text": [
      "Train Epoch 3/20: 100%|██████████| 326/326 [00:37<00:00,  8.63it/s, loss=0.105]\n"
     ]
    },
    {
     "name": "stdout",
     "output_type": "stream",
     "text": [
      "train Loss: 0.1749 Acc: 0.9329\n"
     ]
    },
    {
     "name": "stderr",
     "output_type": "stream",
     "text": [
      "Val Epoch 3/20: 100%|██████████| 1/1 [00:00<00:00,  2.11it/s, loss=0.248]\n"
     ]
    },
    {
     "name": "stdout",
     "output_type": "stream",
     "text": [
      "val Loss: 0.2477 Acc: 0.9375\n",
      "\n",
      "Epoch 4/20\n",
      "----------\n"
     ]
    },
    {
     "name": "stderr",
     "output_type": "stream",
     "text": [
      "Train Epoch 4/20: 100%|██████████| 326/326 [00:37<00:00,  8.73it/s, loss=0.132]\n"
     ]
    },
    {
     "name": "stdout",
     "output_type": "stream",
     "text": [
      "train Loss: 0.1618 Acc: 0.9394\n"
     ]
    },
    {
     "name": "stderr",
     "output_type": "stream",
     "text": [
      "Val Epoch 4/20: 100%|██████████| 1/1 [00:00<00:00,  2.09it/s, loss=0.58]\n"
     ]
    },
    {
     "name": "stdout",
     "output_type": "stream",
     "text": [
      "val Loss: 0.5799 Acc: 0.7500\n",
      "\n",
      "Epoch 5/20\n",
      "----------\n"
     ]
    },
    {
     "name": "stderr",
     "output_type": "stream",
     "text": [
      "Train Epoch 5/20: 100%|██████████| 326/326 [00:37<00:00,  8.64it/s, loss=0.11]\n"
     ]
    },
    {
     "name": "stdout",
     "output_type": "stream",
     "text": [
      "train Loss: 0.1631 Acc: 0.9404\n"
     ]
    },
    {
     "name": "stderr",
     "output_type": "stream",
     "text": [
      "Val Epoch 5/20: 100%|██████████| 1/1 [00:00<00:00,  2.16it/s, loss=0.203]\n"
     ]
    },
    {
     "name": "stdout",
     "output_type": "stream",
     "text": [
      "val Loss: 0.2028 Acc: 1.0000\n",
      "\n",
      "Epoch 6/20\n",
      "----------\n"
     ]
    },
    {
     "name": "stderr",
     "output_type": "stream",
     "text": [
      "Train Epoch 6/20: 100%|██████████| 326/326 [00:37<00:00,  8.66it/s, loss=0.186]\n"
     ]
    },
    {
     "name": "stdout",
     "output_type": "stream",
     "text": [
      "train Loss: 0.1378 Acc: 0.9486\n"
     ]
    },
    {
     "name": "stderr",
     "output_type": "stream",
     "text": [
      "Val Epoch 6/20: 100%|██████████| 1/1 [00:00<00:00,  2.07it/s, loss=0.38]\n"
     ]
    },
    {
     "name": "stdout",
     "output_type": "stream",
     "text": [
      "val Loss: 0.3797 Acc: 0.8750\n",
      "\n",
      "Epoch 7/20\n",
      "----------\n"
     ]
    },
    {
     "name": "stderr",
     "output_type": "stream",
     "text": [
      "Train Epoch 7/20: 100%|██████████| 326/326 [00:38<00:00,  8.56it/s, loss=0.0715]\n"
     ]
    },
    {
     "name": "stdout",
     "output_type": "stream",
     "text": [
      "train Loss: 0.1255 Acc: 0.9534\n"
     ]
    },
    {
     "name": "stderr",
     "output_type": "stream",
     "text": [
      "Val Epoch 7/20: 100%|██████████| 1/1 [00:00<00:00,  2.15it/s, loss=0.32]\n"
     ]
    },
    {
     "name": "stdout",
     "output_type": "stream",
     "text": [
      "val Loss: 0.3199 Acc: 0.8750\n",
      "\n",
      "Epoch 8/20\n",
      "----------\n"
     ]
    },
    {
     "name": "stderr",
     "output_type": "stream",
     "text": [
      "Train Epoch 8/20: 100%|██████████| 326/326 [00:37<00:00,  8.59it/s, loss=0.0418]\n"
     ]
    },
    {
     "name": "stdout",
     "output_type": "stream",
     "text": [
      "train Loss: 0.1316 Acc: 0.9505\n"
     ]
    },
    {
     "name": "stderr",
     "output_type": "stream",
     "text": [
      "Val Epoch 8/20: 100%|██████████| 1/1 [00:00<00:00,  2.13it/s, loss=0.342]\n"
     ]
    },
    {
     "name": "stdout",
     "output_type": "stream",
     "text": [
      "val Loss: 0.3424 Acc: 0.9375\n",
      "\n",
      "Epoch 9/20\n",
      "----------\n"
     ]
    },
    {
     "name": "stderr",
     "output_type": "stream",
     "text": [
      "Train Epoch 9/20: 100%|██████████| 326/326 [00:38<00:00,  8.56it/s, loss=0.0947]\n"
     ]
    },
    {
     "name": "stdout",
     "output_type": "stream",
     "text": [
      "train Loss: 0.1079 Acc: 0.9597\n"
     ]
    },
    {
     "name": "stderr",
     "output_type": "stream",
     "text": [
      "Val Epoch 9/20: 100%|██████████| 1/1 [00:00<00:00,  2.13it/s, loss=0.49]\n"
     ]
    },
    {
     "name": "stdout",
     "output_type": "stream",
     "text": [
      "val Loss: 0.4903 Acc: 0.8750\n",
      "\n",
      "Epoch 10/20\n",
      "----------\n"
     ]
    },
    {
     "name": "stderr",
     "output_type": "stream",
     "text": [
      "Train Epoch 10/20: 100%|██████████| 326/326 [00:37<00:00,  8.65it/s, loss=0.0948]\n"
     ]
    },
    {
     "name": "stdout",
     "output_type": "stream",
     "text": [
      "train Loss: 0.1181 Acc: 0.9544\n"
     ]
    },
    {
     "name": "stderr",
     "output_type": "stream",
     "text": [
      "Val Epoch 10/20: 100%|██████████| 1/1 [00:00<00:00,  2.15it/s, loss=0.385]\n"
     ]
    },
    {
     "name": "stdout",
     "output_type": "stream",
     "text": [
      "val Loss: 0.3850 Acc: 0.8750\n",
      "\n",
      "Epoch 11/20\n",
      "----------\n"
     ]
    },
    {
     "name": "stderr",
     "output_type": "stream",
     "text": [
      "Train Epoch 11/20: 100%|██████████| 326/326 [00:37<00:00,  8.60it/s, loss=0.0482]\n"
     ]
    },
    {
     "name": "stdout",
     "output_type": "stream",
     "text": [
      "train Loss: 0.1025 Acc: 0.9615\n"
     ]
    },
    {
     "name": "stderr",
     "output_type": "stream",
     "text": [
      "Val Epoch 11/20: 100%|██████████| 1/1 [00:00<00:00,  2.15it/s, loss=0.506]\n"
     ]
    },
    {
     "name": "stdout",
     "output_type": "stream",
     "text": [
      "val Loss: 0.5056 Acc: 0.8750\n",
      "\n",
      "Epoch 12/20\n",
      "----------\n"
     ]
    },
    {
     "name": "stderr",
     "output_type": "stream",
     "text": [
      "Train Epoch 12/20: 100%|██████████| 326/326 [00:37<00:00,  8.72it/s, loss=0.0903]\n"
     ]
    },
    {
     "name": "stdout",
     "output_type": "stream",
     "text": [
      "train Loss: 0.0964 Acc: 0.9651\n"
     ]
    },
    {
     "name": "stderr",
     "output_type": "stream",
     "text": [
      "Val Epoch 12/20: 100%|██████████| 1/1 [00:00<00:00,  2.07it/s, loss=0.36]\n"
     ]
    },
    {
     "name": "stdout",
     "output_type": "stream",
     "text": [
      "val Loss: 0.3604 Acc: 0.9375\n",
      "\n",
      "Epoch 13/20\n",
      "----------\n"
     ]
    },
    {
     "name": "stderr",
     "output_type": "stream",
     "text": [
      "Train Epoch 13/20: 100%|██████████| 326/326 [00:37<00:00,  8.77it/s, loss=0.0727]\n"
     ]
    },
    {
     "name": "stdout",
     "output_type": "stream",
     "text": [
      "train Loss: 0.0979 Acc: 0.9645\n"
     ]
    },
    {
     "name": "stderr",
     "output_type": "stream",
     "text": [
      "Val Epoch 13/20: 100%|██████████| 1/1 [00:00<00:00,  2.09it/s, loss=0.114]\n"
     ]
    },
    {
     "name": "stdout",
     "output_type": "stream",
     "text": [
      "val Loss: 0.1139 Acc: 1.0000\n",
      "\n",
      "Epoch 14/20\n",
      "----------\n"
     ]
    },
    {
     "name": "stderr",
     "output_type": "stream",
     "text": [
      "Train Epoch 14/20: 100%|██████████| 326/326 [00:37<00:00,  8.60it/s, loss=0.41]\n"
     ]
    },
    {
     "name": "stdout",
     "output_type": "stream",
     "text": [
      "train Loss: 0.0872 Acc: 0.9672\n"
     ]
    },
    {
     "name": "stderr",
     "output_type": "stream",
     "text": [
      "Val Epoch 14/20: 100%|██████████| 1/1 [00:00<00:00,  2.03it/s, loss=0.0487]\n"
     ]
    },
    {
     "name": "stdout",
     "output_type": "stream",
     "text": [
      "val Loss: 0.0487 Acc: 1.0000\n",
      "\n",
      "Epoch 15/20\n",
      "----------\n"
     ]
    },
    {
     "name": "stderr",
     "output_type": "stream",
     "text": [
      "Train Epoch 15/20: 100%|██████████| 326/326 [00:37<00:00,  8.60it/s, loss=0.0126]\n"
     ]
    },
    {
     "name": "stdout",
     "output_type": "stream",
     "text": [
      "train Loss: 0.0790 Acc: 0.9712\n"
     ]
    },
    {
     "name": "stderr",
     "output_type": "stream",
     "text": [
      "Val Epoch 15/20: 100%|██████████| 1/1 [00:00<00:00,  2.13it/s, loss=0.248]\n"
     ]
    },
    {
     "name": "stdout",
     "output_type": "stream",
     "text": [
      "val Loss: 0.2477 Acc: 0.9375\n",
      "\n",
      "Epoch 16/20\n",
      "----------\n"
     ]
    },
    {
     "name": "stderr",
     "output_type": "stream",
     "text": [
      "Train Epoch 16/20: 100%|██████████| 326/326 [00:38<00:00,  8.58it/s, loss=0.0385]\n"
     ]
    },
    {
     "name": "stdout",
     "output_type": "stream",
     "text": [
      "train Loss: 0.0796 Acc: 0.9689\n"
     ]
    },
    {
     "name": "stderr",
     "output_type": "stream",
     "text": [
      "Val Epoch 16/20: 100%|██████████| 1/1 [00:00<00:00,  2.07it/s, loss=0.247]\n"
     ]
    },
    {
     "name": "stdout",
     "output_type": "stream",
     "text": [
      "val Loss: 0.2473 Acc: 0.9375\n",
      "\n",
      "Epoch 17/20\n",
      "----------\n"
     ]
    },
    {
     "name": "stderr",
     "output_type": "stream",
     "text": [
      "Train Epoch 17/20: 100%|██████████| 326/326 [00:39<00:00,  8.35it/s, loss=0.108]\n"
     ]
    },
    {
     "name": "stdout",
     "output_type": "stream",
     "text": [
      "train Loss: 0.0734 Acc: 0.9707\n"
     ]
    },
    {
     "name": "stderr",
     "output_type": "stream",
     "text": [
      "Val Epoch 17/20: 100%|██████████| 1/1 [00:00<00:00,  2.09it/s, loss=0.554]\n"
     ]
    },
    {
     "name": "stdout",
     "output_type": "stream",
     "text": [
      "val Loss: 0.5539 Acc: 0.8750\n",
      "\n",
      "Epoch 18/20\n",
      "----------\n"
     ]
    },
    {
     "name": "stderr",
     "output_type": "stream",
     "text": [
      "Train Epoch 18/20: 100%|██████████| 326/326 [00:38<00:00,  8.46it/s, loss=0.118]\n"
     ]
    },
    {
     "name": "stdout",
     "output_type": "stream",
     "text": [
      "train Loss: 0.0734 Acc: 0.9732\n"
     ]
    },
    {
     "name": "stderr",
     "output_type": "stream",
     "text": [
      "Val Epoch 18/20: 100%|██████████| 1/1 [00:00<00:00,  2.12it/s, loss=0.292]\n"
     ]
    },
    {
     "name": "stdout",
     "output_type": "stream",
     "text": [
      "val Loss: 0.2925 Acc: 0.9375\n",
      "\n",
      "Epoch 19/20\n",
      "----------\n"
     ]
    },
    {
     "name": "stderr",
     "output_type": "stream",
     "text": [
      "Train Epoch 19/20: 100%|██████████| 326/326 [00:38<00:00,  8.47it/s, loss=0.0101]\n"
     ]
    },
    {
     "name": "stdout",
     "output_type": "stream",
     "text": [
      "train Loss: 0.0642 Acc: 0.9751\n"
     ]
    },
    {
     "name": "stderr",
     "output_type": "stream",
     "text": [
      "Val Epoch 19/20: 100%|██████████| 1/1 [00:00<00:00,  1.95it/s, loss=0.357]\n"
     ]
    },
    {
     "name": "stdout",
     "output_type": "stream",
     "text": [
      "val Loss: 0.3569 Acc: 0.9375\n",
      "\n",
      "Epoch 20/20\n",
      "----------\n"
     ]
    },
    {
     "name": "stderr",
     "output_type": "stream",
     "text": [
      "Train Epoch 20/20: 100%|██████████| 326/326 [00:38<00:00,  8.52it/s, loss=0.0628]\n"
     ]
    },
    {
     "name": "stdout",
     "output_type": "stream",
     "text": [
      "train Loss: 0.0659 Acc: 0.9751\n"
     ]
    },
    {
     "name": "stderr",
     "output_type": "stream",
     "text": [
      "Val Epoch 20/20: 100%|██████████| 1/1 [00:00<00:00,  2.15it/s, loss=0.357]\n"
     ]
    },
    {
     "name": "stdout",
     "output_type": "stream",
     "text": [
      "val Loss: 0.3568 Acc: 0.9375\n",
      "\n",
      "Training complete in 12m 53s\n",
      "Best val Acc: 1.000000\n"
     ]
    },
    {
     "name": "stderr",
     "output_type": "stream",
     "text": [
      "Testing: 100%|██████████| 39/39 [00:05<00:00,  6.82it/s, loss=0.304]\n"
     ]
    },
    {
     "name": "stdout",
     "output_type": "stream",
     "text": [
      "\n",
      "Test Results:\n",
      "Test Loss: 0.2071\n",
      "Test Accuracy: 0.9471 (591/624)\n",
      "Metrics plot saved to resnet50_training_metrics.png\n"
     ]
    },
    {
     "data": {
      "image/png": "[encoded data removed]",
      "text/plain": [
       "<Figure size 1500x500 with 2 Axes>"
      ]
     },
     "metadata": {},
     "output_type": "display_data"
    },
    {
     "name": "stdout",
     "output_type": "stream",
     "text": [
      "Confusion matrix saved to resnet50_confusion_matrix.png\n"
     ]
    },
    {
     "name": "stderr",
     "output_type": "stream",
     "text": [
      "2025/09/20 12:57:02 WARNING mlflow.utils.requirements_utils: Found torch version (2.6.0+cu124) contains a local version label (+cu124). MLflow logged a pip requirement for this package as 'torch==2.6.0' without the local version label to make it installable from PyPI. To specify pip requirements containing local version labels, please use `conda_env` or `pip_requirements`.\n",
      "2025/09/20 12:57:21 WARNING mlflow.utils.environment: Encountered an unexpected error while inferring pip requirements (model URI: /tmp/tmplnmbtgmm/model/data, flavor: pytorch). Fall back to return ['torch==2.6.0', 'cloudpickle==3.1.1']. Set logging level to DEBUG to see the full traceback. \n",
      "/usr/local/lib/python3.11/dist-packages/_distutils_hack/__init__.py:31: UserWarning: Setuptools is replacing distutils. Support for replacing an already imported distutils is deprecated. In the future, this condition will fail. Register concerns at https://github.com/pypa/setuptools/issues/new?template=distutils-deprecation.yml\n",
      "  warnings.warn(\n",
      "Successfully registered model 'pneumonia-detection-resnet50'.\n",
      "Created version '1' of model 'pneumonia-detection-resnet50'.\n"
     ]
    },
    {
     "name": "stdout",
     "output_type": "stream",
     "text": [
      "Logged model and registered as 'pneumonia-detection-resnet50'.\n"
     ]
    },
    {
     "name": "stderr",
     "output_type": "stream",
     "text": [
      "2025/09/20 12:57:22 INFO mlflow.system_metrics.system_metrics_monitor: Stopping system metrics monitoring...\n",
      "2025/09/20 12:57:22 INFO mlflow.system_metrics.system_metrics_monitor: Successfully terminated system metrics monitoring!\n",
      "2025/09/20 12:57:22 INFO mlflow.system_metrics.system_metrics_monitor: Started monitoring system metrics.\n"
     ]
    },
    {
     "name": "stdout",
     "output_type": "stream",
     "text": [
      "Model saved to resnet50_best.pth\n",
      "\n",
      "=========================\n",
      "  COMPLETED MLFLOW RUN FOR: RESNET50\n",
      "=========================\n",
      "\n",
      "\n",
      "=========================\n",
      "  STARTING MLFLOW RUN FOR: RESNEXT50\n",
      "=========================\n",
      "\n"
     ]
    },
    {
     "name": "stderr",
     "output_type": "stream",
     "text": [
      "Downloading: \"https://download.pytorch.org/models/resnext50_32x4d-1a0047aa.pth\" to /root/.cache/torch/hub/checkpoints/resnext50_32x4d-1a0047aa.pth\n",
      "100%|██████████| 95.8M/95.8M [00:00<00:00, 224MB/s]\n"
     ]
    },
    {
     "name": "stdout",
     "output_type": "stream",
     "text": [
      "Epoch 1/20\n",
      "----------\n"
     ]
    },
    {
     "name": "stderr",
     "output_type": "stream",
     "text": [
      "Train Epoch 1/20: 100%|██████████| 326/326 [00:53<00:00,  6.10it/s, loss=0.16]\n"
     ]
    },
    {
     "name": "stdout",
     "output_type": "stream",
     "text": [
      "train Loss: 0.2867 Acc: 0.8775\n"
     ]
    },
    {
     "name": "stderr",
     "output_type": "stream",
     "text": [
      "Val Epoch 1/20: 100%|██████████| 1/1 [00:00<00:00,  1.78it/s, loss=0.627]\n"
     ]
    },
    {
     "name": "stdout",
     "output_type": "stream",
     "text": [
      "val Loss: 0.6274 Acc: 0.6875\n",
      "\n",
      "Epoch 2/20\n",
      "----------\n"
     ]
    },
    {
     "name": "stderr",
     "output_type": "stream",
     "text": [
      "Train Epoch 2/20: 100%|██████████| 326/326 [00:53<00:00,  6.10it/s, loss=0.038]\n"
     ]
    },
    {
     "name": "stdout",
     "output_type": "stream",
     "text": [
      "train Loss: 0.2082 Acc: 0.9216\n"
     ]
    },
    {
     "name": "stderr",
     "output_type": "stream",
     "text": [
      "Val Epoch 2/20: 100%|██████████| 1/1 [00:00<00:00,  1.78it/s, loss=0.992]\n"
     ]
    },
    {
     "name": "stdout",
     "output_type": "stream",
     "text": [
      "val Loss: 0.9915 Acc: 0.6250\n",
      "\n",
      "Epoch 3/20\n",
      "----------\n"
     ]
    },
    {
     "name": "stderr",
     "output_type": "stream",
     "text": [
      "Train Epoch 3/20: 100%|██████████| 326/326 [00:53<00:00,  6.10it/s, loss=0.0642]\n"
     ]
    },
    {
     "name": "stdout",
     "output_type": "stream",
     "text": [
      "train Loss: 0.1677 Acc: 0.9346\n"
     ]
    },
    {
     "name": "stderr",
     "output_type": "stream",
     "text": [
      "Val Epoch 3/20: 100%|██████████| 1/1 [00:00<00:00,  1.81it/s, loss=1.09]\n"
     ]
    },
    {
     "name": "stdout",
     "output_type": "stream",
     "text": [
      "val Loss: 1.0904 Acc: 0.6250\n",
      "\n",
      "Epoch 4/20\n",
      "----------\n"
     ]
    },
    {
     "name": "stderr",
     "output_type": "stream",
     "text": [
      "Train Epoch 4/20: 100%|██████████| 326/326 [00:53<00:00,  6.10it/s, loss=0.472]\n"
     ]
    },
    {
     "name": "stdout",
     "output_type": "stream",
     "text": [
      "train Loss: 0.1634 Acc: 0.9375\n"
     ]
    },
    {
     "name": "stderr",
     "output_type": "stream",
     "text": [
      "Val Epoch 4/20: 100%|██████████| 1/1 [00:00<00:00,  1.78it/s, loss=0.714]\n"
     ]
    },
    {
     "name": "stdout",
     "output_type": "stream",
     "text": [
      "val Loss: 0.7144 Acc: 0.6250\n",
      "\n",
      "Epoch 5/20\n",
      "----------\n"
     ]
    },
    {
     "name": "stderr",
     "output_type": "stream",
     "text": [
      "Train Epoch 5/20: 100%|██████████| 326/326 [00:53<00:00,  6.10it/s, loss=0.131]\n"
     ]
    },
    {
     "name": "stdout",
     "output_type": "stream",
     "text": [
      "train Loss: 0.1513 Acc: 0.9452\n"
     ]
    },
    {
     "name": "stderr",
     "output_type": "stream",
     "text": [
      "Val Epoch 5/20: 100%|██████████| 1/1 [00:00<00:00,  1.72it/s, loss=0.242]\n"
     ]
    },
    {
     "name": "stdout",
     "output_type": "stream",
     "text": [
      "val Loss: 0.2418 Acc: 0.9375\n",
      "\n",
      "Epoch 6/20\n",
      "----------\n"
     ]
    },
    {
     "name": "stderr",
     "output_type": "stream",
     "text": [
      "Train Epoch 6/20: 100%|██████████| 326/326 [00:53<00:00,  6.11it/s, loss=0.184]\n"
     ]
    },
    {
     "name": "stdout",
     "output_type": "stream",
     "text": [
      "train Loss: 0.1390 Acc: 0.9490\n"
     ]
    },
    {
     "name": "stderr",
     "output_type": "stream",
     "text": [
      "Val Epoch 6/20: 100%|██████████| 1/1 [00:00<00:00,  1.76it/s, loss=0.208]\n"
     ]
    },
    {
     "name": "stdout",
     "output_type": "stream",
     "text": [
      "val Loss: 0.2076 Acc: 0.9375\n",
      "\n",
      "Epoch 7/20\n",
      "----------\n"
     ]
    },
    {
     "name": "stderr",
     "output_type": "stream",
     "text": [
      "Train Epoch 7/20: 100%|██████████| 326/326 [00:53<00:00,  6.11it/s, loss=0.00927]\n"
     ]
    },
    {
     "name": "stdout",
     "output_type": "stream",
     "text": [
      "train Loss: 0.1264 Acc: 0.9534\n"
     ]
    },
    {
     "name": "stderr",
     "output_type": "stream",
     "text": [
      "Val Epoch 7/20: 100%|██████████| 1/1 [00:00<00:00,  1.76it/s, loss=0.974]\n"
     ]
    },
    {
     "name": "stdout",
     "output_type": "stream",
     "text": [
      "val Loss: 0.9745 Acc: 0.6250\n",
      "\n",
      "Epoch 8/20\n",
      "----------\n"
     ]
    },
    {
     "name": "stderr",
     "output_type": "stream",
     "text": [
      "Train Epoch 8/20: 100%|██████████| 326/326 [00:53<00:00,  6.11it/s, loss=0.0171]\n"
     ]
    },
    {
     "name": "stdout",
     "output_type": "stream",
     "text": [
      "train Loss: 0.1278 Acc: 0.9519\n"
     ]
    },
    {
     "name": "stderr",
     "output_type": "stream",
     "text": [
      "Val Epoch 8/20: 100%|██████████| 1/1 [00:00<00:00,  1.75it/s, loss=0.211]\n"
     ]
    },
    {
     "name": "stdout",
     "output_type": "stream",
     "text": [
      "val Loss: 0.2111 Acc: 1.0000\n",
      "\n",
      "Epoch 9/20\n",
      "----------\n"
     ]
    },
    {
     "name": "stderr",
     "output_type": "stream",
     "text": [
      "Train Epoch 9/20: 100%|██████████| 326/326 [00:53<00:00,  6.08it/s, loss=0.114]\n"
     ]
    },
    {
     "name": "stdout",
     "output_type": "stream",
     "text": [
      "train Loss: 0.1111 Acc: 0.9551\n"
     ]
    },
    {
     "name": "stderr",
     "output_type": "stream",
     "text": [
      "Val Epoch 9/20: 100%|██████████| 1/1 [00:00<00:00,  1.78it/s, loss=0.632]\n"
     ]
    },
    {
     "name": "stdout",
     "output_type": "stream",
     "text": [
      "val Loss: 0.6321 Acc: 0.8125\n",
      "\n",
      "Epoch 10/20\n",
      "----------\n"
     ]
    },
    {
     "name": "stderr",
     "output_type": "stream",
     "text": [
      "Train Epoch 10/20: 100%|██████████| 326/326 [00:53<00:00,  6.10it/s, loss=0.0487]\n"
     ]
    },
    {
     "name": "stdout",
     "output_type": "stream",
     "text": [
      "train Loss: 0.0993 Acc: 0.9609\n"
     ]
    },
    {
     "name": "stderr",
     "output_type": "stream",
     "text": [
      "Val Epoch 10/20: 100%|██████████| 1/1 [00:00<00:00,  1.85it/s, loss=0.392]\n"
     ]
    },
    {
     "name": "stdout",
     "output_type": "stream",
     "text": [
      "val Loss: 0.3923 Acc: 0.7500\n",
      "\n",
      "Epoch 11/20\n",
      "----------\n"
     ]
    },
    {
     "name": "stderr",
     "output_type": "stream",
     "text": [
      "Train Epoch 11/20: 100%|██████████| 326/326 [00:53<00:00,  6.11it/s, loss=0.355]\n"
     ]
    },
    {
     "name": "stdout",
     "output_type": "stream",
     "text": [
      "train Loss: 0.1008 Acc: 0.9636\n"
     ]
    },
    {
     "name": "stderr",
     "output_type": "stream",
     "text": [
      "Val Epoch 11/20: 100%|██████████| 1/1 [00:00<00:00,  1.75it/s, loss=0.252]\n"
     ]
    },
    {
     "name": "stdout",
     "output_type": "stream",
     "text": [
      "val Loss: 0.2522 Acc: 1.0000\n",
      "\n",
      "Epoch 12/20\n",
      "----------\n"
     ]
    },
    {
     "name": "stderr",
     "output_type": "stream",
     "text": [
      "Train Epoch 12/20: 100%|██████████| 326/326 [00:53<00:00,  6.08it/s, loss=0.0428]\n"
     ]
    },
    {
     "name": "stdout",
     "output_type": "stream",
     "text": [
      "train Loss: 0.0901 Acc: 0.9640\n"
     ]
    },
    {
     "name": "stderr",
     "output_type": "stream",
     "text": [
      "Val Epoch 12/20: 100%|██████████| 1/1 [00:00<00:00,  1.79it/s, loss=0.171]\n"
     ]
    },
    {
     "name": "stdout",
     "output_type": "stream",
     "text": [
      "val Loss: 0.1708 Acc: 0.9375\n",
      "\n",
      "Epoch 13/20\n",
      "----------\n"
     ]
    },
    {
     "name": "stderr",
     "output_type": "stream",
     "text": [
      "Train Epoch 13/20: 100%|██████████| 326/326 [00:53<00:00,  6.10it/s, loss=0.131]\n"
     ]
    },
    {
     "name": "stdout",
     "output_type": "stream",
     "text": [
      "train Loss: 0.0898 Acc: 0.9634\n"
     ]
    },
    {
     "name": "stderr",
     "output_type": "stream",
     "text": [
      "Val Epoch 13/20: 100%|██████████| 1/1 [00:00<00:00,  1.83it/s, loss=0.0789]\n"
     ]
    },
    {
     "name": "stdout",
     "output_type": "stream",
     "text": [
      "val Loss: 0.0789 Acc: 1.0000\n",
      "\n",
      "Epoch 14/20\n",
      "----------\n"
     ]
    },
    {
     "name": "stderr",
     "output_type": "stream",
     "text": [
      "Train Epoch 14/20: 100%|██████████| 326/326 [00:53<00:00,  6.12it/s, loss=0.0819]\n"
     ]
    },
    {
     "name": "stdout",
     "output_type": "stream",
     "text": [
      "train Loss: 0.0760 Acc: 0.9703\n"
     ]
    },
    {
     "name": "stderr",
     "output_type": "stream",
     "text": [
      "Val Epoch 14/20: 100%|██████████| 1/1 [00:00<00:00,  1.78it/s, loss=0.127]\n"
     ]
    },
    {
     "name": "stdout",
     "output_type": "stream",
     "text": [
      "val Loss: 0.1274 Acc: 1.0000\n",
      "\n",
      "Epoch 15/20\n",
      "----------\n"
     ]
    },
    {
     "name": "stderr",
     "output_type": "stream",
     "text": [
      "Train Epoch 15/20: 100%|██████████| 326/326 [00:53<00:00,  6.10it/s, loss=0.0032]\n"
     ]
    },
    {
     "name": "stdout",
     "output_type": "stream",
     "text": [
      "train Loss: 0.0755 Acc: 0.9711\n"
     ]
    },
    {
     "name": "stderr",
     "output_type": "stream",
     "text": [
      "Val Epoch 15/20: 100%|██████████| 1/1 [00:00<00:00,  1.79it/s, loss=0.161]\n"
     ]
    },
    {
     "name": "stdout",
     "output_type": "stream",
     "text": [
      "val Loss: 0.1611 Acc: 0.9375\n",
      "\n",
      "Epoch 16/20\n",
      "----------\n"
     ]
    },
    {
     "name": "stderr",
     "output_type": "stream",
     "text": [
      "Train Epoch 16/20: 100%|██████████| 326/326 [00:53<00:00,  6.12it/s, loss=0.0333]\n"
     ]
    },
    {
     "name": "stdout",
     "output_type": "stream",
     "text": [
      "train Loss: 0.0668 Acc: 0.9751\n"
     ]
    },
    {
     "name": "stderr",
     "output_type": "stream",
     "text": [
      "Val Epoch 16/20: 100%|██████████| 1/1 [00:00<00:00,  1.82it/s, loss=0.236]\n"
     ]
    },
    {
     "name": "stdout",
     "output_type": "stream",
     "text": [
      "val Loss: 0.2363 Acc: 0.9375\n",
      "\n",
      "Epoch 17/20\n",
      "----------\n"
     ]
    },
    {
     "name": "stderr",
     "output_type": "stream",
     "text": [
      "Train Epoch 17/20: 100%|██████████| 326/326 [00:53<00:00,  6.12it/s, loss=0.00285]\n"
     ]
    },
    {
     "name": "stdout",
     "output_type": "stream",
     "text": [
      "train Loss: 0.0602 Acc: 0.9757\n"
     ]
    },
    {
     "name": "stderr",
     "output_type": "stream",
     "text": [
      "Val Epoch 17/20: 100%|██████████| 1/1 [00:00<00:00,  1.82it/s, loss=0.198]\n"
     ]
    },
    {
     "name": "stdout",
     "output_type": "stream",
     "text": [
      "val Loss: 0.1981 Acc: 0.9375\n",
      "\n",
      "Epoch 18/20\n",
      "----------\n"
     ]
    },
    {
     "name": "stderr",
     "output_type": "stream",
     "text": [
      "Train Epoch 18/20: 100%|██████████| 326/326 [00:53<00:00,  6.12it/s, loss=0.0278]\n"
     ]
    },
    {
     "name": "stdout",
     "output_type": "stream",
     "text": [
      "train Loss: 0.0699 Acc: 0.9737\n"
     ]
    },
    {
     "name": "stderr",
     "output_type": "stream",
     "text": [
      "Val Epoch 18/20: 100%|██████████| 1/1 [00:00<00:00,  1.78it/s, loss=0.183]\n"
     ]
    },
    {
     "name": "stdout",
     "output_type": "stream",
     "text": [
      "val Loss: 0.1829 Acc: 0.9375\n",
      "\n",
      "Epoch 19/20\n",
      "----------\n"
     ]
    },
    {
     "name": "stderr",
     "output_type": "stream",
     "text": [
      "Train Epoch 19/20: 100%|██████████| 326/326 [00:53<00:00,  6.09it/s, loss=0.00697]\n"
     ]
    },
    {
     "name": "stdout",
     "output_type": "stream",
     "text": [
      "train Loss: 0.0583 Acc: 0.9787\n"
     ]
    },
    {
     "name": "stderr",
     "output_type": "stream",
     "text": [
      "Val Epoch 19/20: 100%|██████████| 1/1 [00:00<00:00,  1.76it/s, loss=0.229]\n"
     ]
    },
    {
     "name": "stdout",
     "output_type": "stream",
     "text": [
      "val Loss: 0.2291 Acc: 0.9375\n",
      "\n",
      "Epoch 20/20\n",
      "----------\n"
     ]
    },
    {
     "name": "stderr",
     "output_type": "stream",
     "text": [
      "Train Epoch 20/20: 100%|██████████| 326/326 [00:53<00:00,  6.08it/s, loss=0.0018]\n"
     ]
    },
    {
     "name": "stdout",
     "output_type": "stream",
     "text": [
      "train Loss: 0.0628 Acc: 0.9757\n"
     ]
    },
    {
     "name": "stderr",
     "output_type": "stream",
     "text": [
      "Val Epoch 20/20: 100%|██████████| 1/1 [00:00<00:00,  1.81it/s, loss=0.208]\n"
     ]
    },
    {
     "name": "stdout",
     "output_type": "stream",
     "text": [
      "val Loss: 0.2078 Acc: 0.9375\n",
      "\n",
      "Training complete in 17m 60s\n",
      "Best val Acc: 1.000000\n"
     ]
    },
    {
     "name": "stderr",
     "output_type": "stream",
     "text": [
      "Testing: 100%|██████████| 39/39 [00:05<00:00,  7.52it/s, loss=0.169]\n"
     ]
    },
    {
     "name": "stdout",
     "output_type": "stream",
     "text": [
      "\n",
      "Test Results:\n",
      "Test Loss: 0.2017\n",
      "Test Accuracy: 0.9535 (595/624)\n",
      "Metrics plot saved to resnext50_training_metrics.png\n"
     ]
    },
    {
     "data": {
      "image/png": "[encoded data removed]",
      "text/plain": [
       "<Figure size 1500x500 with 2 Axes>"
      ]
     },
     "metadata": {},
     "output_type": "display_data"
    },
    {
     "name": "stdout",
     "output_type": "stream",
     "text": [
      "Confusion matrix saved to resnext50_confusion_matrix.png\n"
     ]
    },
    {
     "name": "stderr",
     "output_type": "stream",
     "text": [
      "2025/09/20 13:15:34 WARNING mlflow.utils.requirements_utils: Found torch version (2.6.0+cu124) contains a local version label (+cu124). MLflow logged a pip requirement for this package as 'torch==2.6.0' without the local version label to make it installable from PyPI. To specify pip requirements containing local version labels, please use `conda_env` or `pip_requirements`.\n",
      "2025/09/20 13:15:44 WARNING mlflow.utils.environment: Encountered an unexpected error while inferring pip requirements (model URI: /tmp/tmpq_f8al01/model/data, flavor: pytorch). Fall back to return ['torch==2.6.0', 'cloudpickle==3.1.1']. Set logging level to DEBUG to see the full traceback. \n",
      "Successfully registered model 'pneumonia-detection-resnext50'.\n",
      "Created version '1' of model 'pneumonia-detection-resnext50'.\n",
      "2025/09/20 13:15:45 INFO mlflow.system_metrics.system_metrics_monitor: Stopping system metrics monitoring...\n",
      "2025/09/20 13:15:45 INFO mlflow.system_metrics.system_metrics_monitor: Successfully terminated system metrics monitoring!\n",
      "2025/09/20 13:15:45 INFO mlflow.system_metrics.system_metrics_monitor: Started monitoring system metrics.\n"
     ]
    },
    {
     "name": "stdout",
     "output_type": "stream",
     "text": [
      "Logged model and registered as 'pneumonia-detection-resnext50'.\n",
      "Model saved to resnext50_best.pth\n",
      "\n",
      "=========================\n",
      "  COMPLETED MLFLOW RUN FOR: RESNEXT50\n",
      "=========================\n",
      "\n",
      "\n",
      "=========================\n",
      "  STARTING MLFLOW RUN FOR: EFFICIENTNET_V2_S\n",
      "=========================\n",
      "\n"
     ]
    },
    {
     "name": "stderr",
     "output_type": "stream",
     "text": [
      "Downloading: \"https://download.pytorch.org/models/efficientnet_v2_s-dd5fe13b.pth\" to /root/.cache/torch/hub/checkpoints/efficientnet_v2_s-dd5fe13b.pth\n",
      "100%|██████████| 82.7M/82.7M [00:00<00:00, 167MB/s]\n"
     ]
    },
    {
     "name": "stdout",
     "output_type": "stream",
     "text": [
      "Epoch 1/20\n",
      "----------\n"
     ]
    },
    {
     "name": "stderr",
     "output_type": "stream",
     "text": [
      "Train Epoch 1/20: 100%|██████████| 326/326 [00:56<00:00,  5.80it/s, loss=0.427]\n"
     ]
    },
    {
     "name": "stdout",
     "output_type": "stream",
     "text": [
      "train Loss: 0.3065 Acc: 0.8618\n"
     ]
    },
    {
     "name": "stderr",
     "output_type": "stream",
     "text": [
      "Val Epoch 1/20: 100%|██████████| 1/1 [00:00<00:00,  1.78it/s, loss=1.46]\n"
     ]
    },
    {
     "name": "stdout",
     "output_type": "stream",
     "text": [
      "val Loss: 1.4645 Acc: 0.6250\n",
      "\n",
      "Epoch 2/20\n",
      "----------\n"
     ]
    },
    {
     "name": "stderr",
     "output_type": "stream",
     "text": [
      "Train Epoch 2/20: 100%|██████████| 326/326 [00:55<00:00,  5.83it/s, loss=0.0892]\n"
     ]
    },
    {
     "name": "stdout",
     "output_type": "stream",
     "text": [
      "train Loss: 0.2044 Acc: 0.9164\n"
     ]
    },
    {
     "name": "stderr",
     "output_type": "stream",
     "text": [
      "Val Epoch 2/20: 100%|██████████| 1/1 [00:00<00:00,  1.76it/s, loss=1.29]\n"
     ]
    },
    {
     "name": "stdout",
     "output_type": "stream",
     "text": [
      "val Loss: 1.2928 Acc: 0.6875\n",
      "\n",
      "Epoch 3/20\n",
      "----------\n"
     ]
    },
    {
     "name": "stderr",
     "output_type": "stream",
     "text": [
      "Train Epoch 3/20: 100%|██████████| 326/326 [00:55<00:00,  5.84it/s, loss=0.141]\n"
     ]
    },
    {
     "name": "stdout",
     "output_type": "stream",
     "text": [
      "train Loss: 0.1833 Acc: 0.9273\n"
     ]
    },
    {
     "name": "stderr",
     "output_type": "stream",
     "text": [
      "Val Epoch 3/20: 100%|██████████| 1/1 [00:00<00:00,  1.75it/s, loss=0.341]\n"
     ]
    },
    {
     "name": "stdout",
     "output_type": "stream",
     "text": [
      "val Loss: 0.3406 Acc: 0.9375\n",
      "\n",
      "Epoch 4/20\n",
      "----------\n"
     ]
    },
    {
     "name": "stderr",
     "output_type": "stream",
     "text": [
      "Train Epoch 4/20: 100%|██████████| 326/326 [00:55<00:00,  5.86it/s, loss=0.0942]\n"
     ]
    },
    {
     "name": "stdout",
     "output_type": "stream",
     "text": [
      "train Loss: 0.1653 Acc: 0.9394\n"
     ]
    },
    {
     "name": "stderr",
     "output_type": "stream",
     "text": [
      "Val Epoch 4/20: 100%|██████████| 1/1 [00:00<00:00,  1.74it/s, loss=0.224]\n"
     ]
    },
    {
     "name": "stdout",
     "output_type": "stream",
     "text": [
      "val Loss: 0.2244 Acc: 0.9375\n",
      "\n",
      "Epoch 5/20\n",
      "----------\n"
     ]
    },
    {
     "name": "stderr",
     "output_type": "stream",
     "text": [
      "Train Epoch 5/20: 100%|██████████| 326/326 [00:55<00:00,  5.83it/s, loss=0.13]\n"
     ]
    },
    {
     "name": "stdout",
     "output_type": "stream",
     "text": [
      "train Loss: 0.1611 Acc: 0.9392\n"
     ]
    },
    {
     "name": "stderr",
     "output_type": "stream",
     "text": [
      "Val Epoch 5/20: 100%|██████████| 1/1 [00:00<00:00,  1.66it/s, loss=0.652]\n"
     ]
    },
    {
     "name": "stdout",
     "output_type": "stream",
     "text": [
      "val Loss: 0.6519 Acc: 0.7500\n",
      "\n",
      "Epoch 6/20\n",
      "----------\n"
     ]
    },
    {
     "name": "stderr",
     "output_type": "stream",
     "text": [
      "Train Epoch 6/20: 100%|██████████| 326/326 [00:56<00:00,  5.76it/s, loss=0.184]\n"
     ]
    },
    {
     "name": "stdout",
     "output_type": "stream",
     "text": [
      "train Loss: 0.1447 Acc: 0.9446\n"
     ]
    },
    {
     "name": "stderr",
     "output_type": "stream",
     "text": [
      "Val Epoch 6/20: 100%|██████████| 1/1 [00:00<00:00,  1.73it/s, loss=0.65]\n"
     ]
    },
    {
     "name": "stdout",
     "output_type": "stream",
     "text": [
      "val Loss: 0.6499 Acc: 0.8125\n",
      "\n",
      "Epoch 7/20\n",
      "----------\n"
     ]
    },
    {
     "name": "stderr",
     "output_type": "stream",
     "text": [
      "Train Epoch 7/20: 100%|██████████| 326/326 [00:56<00:00,  5.80it/s, loss=0.0906]\n"
     ]
    },
    {
     "name": "stdout",
     "output_type": "stream",
     "text": [
      "train Loss: 0.1260 Acc: 0.9507\n"
     ]
    },
    {
     "name": "stderr",
     "output_type": "stream",
     "text": [
      "Val Epoch 7/20: 100%|██████████| 1/1 [00:00<00:00,  1.69it/s, loss=0.332]\n"
     ]
    },
    {
     "name": "stdout",
     "output_type": "stream",
     "text": [
      "val Loss: 0.3315 Acc: 0.8125\n",
      "\n",
      "Epoch 8/20\n",
      "----------\n"
     ]
    },
    {
     "name": "stderr",
     "output_type": "stream",
     "text": [
      "Train Epoch 8/20: 100%|██████████| 326/326 [00:55<00:00,  5.84it/s, loss=0.135]\n"
     ]
    },
    {
     "name": "stdout",
     "output_type": "stream",
     "text": [
      "train Loss: 0.1239 Acc: 0.9523\n"
     ]
    },
    {
     "name": "stderr",
     "output_type": "stream",
     "text": [
      "Val Epoch 8/20: 100%|██████████| 1/1 [00:00<00:00,  1.72it/s, loss=0.967]\n"
     ]
    },
    {
     "name": "stdout",
     "output_type": "stream",
     "text": [
      "val Loss: 0.9672 Acc: 0.6875\n",
      "\n",
      "Epoch 9/20\n",
      "----------\n"
     ]
    },
    {
     "name": "stderr",
     "output_type": "stream",
     "text": [
      "Train Epoch 9/20: 100%|██████████| 326/326 [00:56<00:00,  5.79it/s, loss=0.0107]\n"
     ]
    },
    {
     "name": "stdout",
     "output_type": "stream",
     "text": [
      "train Loss: 0.1172 Acc: 0.9551\n"
     ]
    },
    {
     "name": "stderr",
     "output_type": "stream",
     "text": [
      "Val Epoch 9/20: 100%|██████████| 1/1 [00:00<00:00,  1.73it/s, loss=0.0752]\n"
     ]
    },
    {
     "name": "stdout",
     "output_type": "stream",
     "text": [
      "val Loss: 0.0752 Acc: 1.0000\n",
      "\n",
      "Epoch 10/20\n",
      "----------\n"
     ]
    },
    {
     "name": "stderr",
     "output_type": "stream",
     "text": [
      "Train Epoch 10/20: 100%|██████████| 326/326 [00:56<00:00,  5.82it/s, loss=0.0984]\n"
     ]
    },
    {
     "name": "stdout",
     "output_type": "stream",
     "text": [
      "train Loss: 0.0998 Acc: 0.9618\n"
     ]
    },
    {
     "name": "stderr",
     "output_type": "stream",
     "text": [
      "Val Epoch 10/20: 100%|██████████| 1/1 [00:00<00:00,  1.73it/s, loss=0.267]\n"
     ]
    },
    {
     "name": "stdout",
     "output_type": "stream",
     "text": [
      "val Loss: 0.2673 Acc: 0.8750\n",
      "\n",
      "Epoch 11/20\n",
      "----------\n"
     ]
    },
    {
     "name": "stderr",
     "output_type": "stream",
     "text": [
      "Train Epoch 11/20: 100%|██████████| 326/326 [00:56<00:00,  5.79it/s, loss=0.0129]\n"
     ]
    },
    {
     "name": "stdout",
     "output_type": "stream",
     "text": [
      "train Loss: 0.0969 Acc: 0.9641\n"
     ]
    },
    {
     "name": "stderr",
     "output_type": "stream",
     "text": [
      "Val Epoch 11/20: 100%|██████████| 1/1 [00:00<00:00,  1.71it/s, loss=0.4]\n"
     ]
    },
    {
     "name": "stdout",
     "output_type": "stream",
     "text": [
      "val Loss: 0.4004 Acc: 0.8125\n",
      "\n",
      "Epoch 12/20\n",
      "----------\n"
     ]
    },
    {
     "name": "stderr",
     "output_type": "stream",
     "text": [
      "Train Epoch 12/20: 100%|██████████| 326/326 [00:55<00:00,  5.83it/s, loss=0.0574]\n"
     ]
    },
    {
     "name": "stdout",
     "output_type": "stream",
     "text": [
      "train Loss: 0.0925 Acc: 0.9661\n"
     ]
    },
    {
     "name": "stderr",
     "output_type": "stream",
     "text": [
      "Val Epoch 12/20: 100%|██████████| 1/1 [00:00<00:00,  1.71it/s, loss=0.688]\n"
     ]
    },
    {
     "name": "stdout",
     "output_type": "stream",
     "text": [
      "val Loss: 0.6878 Acc: 0.7500\n",
      "\n",
      "Epoch 13/20\n",
      "----------\n"
     ]
    },
    {
     "name": "stderr",
     "output_type": "stream",
     "text": [
      "Train Epoch 13/20: 100%|██████████| 326/326 [00:56<00:00,  5.74it/s, loss=0.0235]\n"
     ]
    },
    {
     "name": "stdout",
     "output_type": "stream",
     "text": [
      "train Loss: 0.0851 Acc: 0.9712\n"
     ]
    },
    {
     "name": "stderr",
     "output_type": "stream",
     "text": [
      "Val Epoch 13/20: 100%|██████████| 1/1 [00:00<00:00,  1.69it/s, loss=0.665]\n"
     ]
    },
    {
     "name": "stdout",
     "output_type": "stream",
     "text": [
      "val Loss: 0.6650 Acc: 0.7500\n",
      "\n",
      "Epoch 14/20\n",
      "----------\n"
     ]
    },
    {
     "name": "stderr",
     "output_type": "stream",
     "text": [
      "Train Epoch 14/20: 100%|██████████| 326/326 [00:56<00:00,  5.78it/s, loss=0.0218]\n"
     ]
    },
    {
     "name": "stdout",
     "output_type": "stream",
     "text": [
      "train Loss: 0.0763 Acc: 0.9720\n"
     ]
    },
    {
     "name": "stderr",
     "output_type": "stream",
     "text": [
      "Val Epoch 14/20: 100%|██████████| 1/1 [00:00<00:00,  1.76it/s, loss=0.894]\n"
     ]
    },
    {
     "name": "stdout",
     "output_type": "stream",
     "text": [
      "val Loss: 0.8942 Acc: 0.7500\n",
      "\n",
      "Epoch 15/20\n",
      "----------\n"
     ]
    },
    {
     "name": "stderr",
     "output_type": "stream",
     "text": [
      "Train Epoch 15/20: 100%|██████████| 326/326 [00:56<00:00,  5.81it/s, loss=0.0209]\n"
     ]
    },
    {
     "name": "stdout",
     "output_type": "stream",
     "text": [
      "train Loss: 0.0781 Acc: 0.9734\n"
     ]
    },
    {
     "name": "stderr",
     "output_type": "stream",
     "text": [
      "Val Epoch 15/20: 100%|██████████| 1/1 [00:00<00:00,  1.69it/s, loss=0.305]\n"
     ]
    },
    {
     "name": "stdout",
     "output_type": "stream",
     "text": [
      "val Loss: 0.3046 Acc: 0.8750\n",
      "\n",
      "Epoch 16/20\n",
      "----------\n"
     ]
    },
    {
     "name": "stderr",
     "output_type": "stream",
     "text": [
      "Train Epoch 16/20: 100%|██████████| 326/326 [00:56<00:00,  5.81it/s, loss=0.00533]\n"
     ]
    },
    {
     "name": "stdout",
     "output_type": "stream",
     "text": [
      "train Loss: 0.0693 Acc: 0.9735\n"
     ]
    },
    {
     "name": "stderr",
     "output_type": "stream",
     "text": [
      "Val Epoch 16/20: 100%|██████████| 1/1 [00:00<00:00,  1.76it/s, loss=0.624]\n"
     ]
    },
    {
     "name": "stdout",
     "output_type": "stream",
     "text": [
      "val Loss: 0.6245 Acc: 0.8125\n",
      "\n",
      "Epoch 17/20\n",
      "----------\n"
     ]
    },
    {
     "name": "stderr",
     "output_type": "stream",
     "text": [
      "Train Epoch 17/20: 100%|██████████| 326/326 [00:56<00:00,  5.81it/s, loss=0.0475]\n"
     ]
    },
    {
     "name": "stdout",
     "output_type": "stream",
     "text": [
      "train Loss: 0.0669 Acc: 0.9753\n"
     ]
    },
    {
     "name": "stderr",
     "output_type": "stream",
     "text": [
      "Val Epoch 17/20: 100%|██████████| 1/1 [00:00<00:00,  1.75it/s, loss=0.55]\n"
     ]
    },
    {
     "name": "stdout",
     "output_type": "stream",
     "text": [
      "val Loss: 0.5496 Acc: 0.8125\n",
      "\n",
      "Epoch 18/20\n",
      "----------\n"
     ]
    },
    {
     "name": "stderr",
     "output_type": "stream",
     "text": [
      "Train Epoch 18/20: 100%|██████████| 326/326 [00:55<00:00,  5.82it/s, loss=0.0245]\n"
     ]
    },
    {
     "name": "stdout",
     "output_type": "stream",
     "text": [
      "train Loss: 0.0532 Acc: 0.9787\n"
     ]
    },
    {
     "name": "stderr",
     "output_type": "stream",
     "text": [
      "Val Epoch 18/20: 100%|██████████| 1/1 [00:00<00:00,  1.78it/s, loss=0.384]\n"
     ]
    },
    {
     "name": "stdout",
     "output_type": "stream",
     "text": [
      "val Loss: 0.3844 Acc: 0.8750\n",
      "\n",
      "Epoch 19/20\n",
      "----------\n"
     ]
    },
    {
     "name": "stderr",
     "output_type": "stream",
     "text": [
      "Train Epoch 19/20: 100%|██████████| 326/326 [00:55<00:00,  5.83it/s, loss=0.0395]\n"
     ]
    },
    {
     "name": "stdout",
     "output_type": "stream",
     "text": [
      "train Loss: 0.0608 Acc: 0.9787\n"
     ]
    },
    {
     "name": "stderr",
     "output_type": "stream",
     "text": [
      "Val Epoch 19/20: 100%|██████████| 1/1 [00:00<00:00,  1.77it/s, loss=0.307]\n"
     ]
    },
    {
     "name": "stdout",
     "output_type": "stream",
     "text": [
      "val Loss: 0.3074 Acc: 0.8750\n",
      "\n",
      "Epoch 20/20\n",
      "----------\n"
     ]
    },
    {
     "name": "stderr",
     "output_type": "stream",
     "text": [
      "Train Epoch 20/20: 100%|██████████| 326/326 [00:57<00:00,  5.72it/s, loss=0.0387]\n"
     ]
    },
    {
     "name": "stdout",
     "output_type": "stream",
     "text": [
      "train Loss: 0.0605 Acc: 0.9766\n"
     ]
    },
    {
     "name": "stderr",
     "output_type": "stream",
     "text": [
      "Val Epoch 20/20: 100%|██████████| 1/1 [00:00<00:00,  1.71it/s, loss=0.345]\n"
     ]
    },
    {
     "name": "stdout",
     "output_type": "stream",
     "text": [
      "val Loss: 0.3450 Acc: 0.8750\n",
      "\n",
      "Training complete in 18m 56s\n",
      "Best val Acc: 1.000000\n"
     ]
    },
    {
     "name": "stderr",
     "output_type": "stream",
     "text": [
      "Testing: 100%|██████████| 39/39 [00:05<00:00,  7.29it/s, loss=0.513]\n"
     ]
    },
    {
     "name": "stdout",
     "output_type": "stream",
     "text": [
      "\n",
      "Test Results:\n",
      "Test Loss: 0.1744\n",
      "Test Accuracy: 0.9615 (600/624)\n",
      "Metrics plot saved to efficientnet_v2_s_training_metrics.png\n"
     ]
    },
    {
     "data": {
      "image/png": "[encoded data removed]",
      "text/plain": [
       "<Figure size 1500x500 with 2 Axes>"
      ]
     },
     "metadata": {},
     "output_type": "display_data"
    },
    {
     "name": "stdout",
     "output_type": "stream",
     "text": [
      "Confusion matrix saved to efficientnet_v2_s_confusion_matrix.png\n"
     ]
    },
    {
     "name": "stderr",
     "output_type": "stream",
     "text": [
      "2025/09/20 13:34:52 WARNING mlflow.utils.requirements_utils: Found torch version (2.6.0+cu124) contains a local version label (+cu124). MLflow logged a pip requirement for this package as 'torch==2.6.0' without the local version label to make it installable from PyPI. To specify pip requirements containing local version labels, please use `conda_env` or `pip_requirements`.\n",
      "2025/09/20 13:35:02 WARNING mlflow.utils.requirements_utils: The following packages were not found in the public PyPI package index as of 2024-02-29; if these packages are not present in the public PyPI index, you must install them manually before loading your model: {'dataproc-spark-connect'}\n",
      "2025/09/20 13:35:02 WARNING mlflow.utils.requirements_utils: Found torchvision version (0.21.0+cu124) contains a local version label (+cu124). MLflow logged a pip requirement for this package as 'torchvision==0.21.0' without the local version label to make it installable from PyPI. To specify pip requirements containing local version labels, please use `conda_env` or `pip_requirements`.\n",
      "Successfully registered model 'pneumonia-detection-efficientnet_v2_s'.\n",
      "Created version '1' of model 'pneumonia-detection-efficientnet_v2_s'.\n"
     ]
    },
    {
     "name": "stdout",
     "output_type": "stream",
     "text": [
      "Logged model and registered as 'pneumonia-detection-efficientnet_v2_s'.\n"
     ]
    },
    {
     "name": "stderr",
     "output_type": "stream",
     "text": [
      "2025/09/20 13:35:03 INFO mlflow.system_metrics.system_metrics_monitor: Stopping system metrics monitoring...\n",
      "2025/09/20 13:35:03 INFO mlflow.system_metrics.system_metrics_monitor: Successfully terminated system metrics monitoring!\n",
      "2025/09/20 13:35:03 INFO mlflow.system_metrics.system_metrics_monitor: Started monitoring system metrics.\n"
     ]
    },
    {
     "name": "stdout",
     "output_type": "stream",
     "text": [
      "Model saved to efficientnet_v2_s_best.pth\n",
      "\n",
      "=========================\n",
      "  COMPLETED MLFLOW RUN FOR: EFFICIENTNET_V2_S\n",
      "=========================\n",
      "\n",
      "\n",
      "=========================\n",
      "  STARTING MLFLOW RUN FOR: CONVNEXT_TINY\n",
      "=========================\n",
      "\n"
     ]
    },
    {
     "name": "stderr",
     "output_type": "stream",
     "text": [
      "Downloading: \"https://download.pytorch.org/models/convnext_tiny-983f1562.pth\" to /root/.cache/torch/hub/checkpoints/convnext_tiny-983f1562.pth\n",
      "100%|██████████| 109M/109M [00:00<00:00, 203MB/s] \n"
     ]
    },
    {
     "name": "stdout",
     "output_type": "stream",
     "text": [
      "Epoch 1/20\n",
      "----------\n"
     ]
    },
    {
     "name": "stderr",
     "output_type": "stream",
     "text": [
      "Train Epoch 1/20: 100%|██████████| 326/326 [04:20<00:00,  1.25it/s, loss=0.067]\n"
     ]
    },
    {
     "name": "stdout",
     "output_type": "stream",
     "text": [
      "train Loss: 0.2708 Acc: 0.8901\n"
     ]
    },
    {
     "name": "stderr",
     "output_type": "stream",
     "text": [
      "Val Epoch 1/20: 100%|██████████| 1/1 [00:00<00:00,  1.60it/s, loss=0.871]\n"
     ]
    },
    {
     "name": "stdout",
     "output_type": "stream",
     "text": [
      "val Loss: 0.8706 Acc: 0.6875\n",
      "\n",
      "Epoch 2/20\n",
      "----------\n"
     ]
    },
    {
     "name": "stderr",
     "output_type": "stream",
     "text": [
      "Train Epoch 2/20: 100%|██████████| 326/326 [04:20<00:00,  1.25it/s, loss=0.0408]\n"
     ]
    },
    {
     "name": "stdout",
     "output_type": "stream",
     "text": [
      "train Loss: 0.1830 Acc: 0.9252\n"
     ]
    },
    {
     "name": "stderr",
     "output_type": "stream",
     "text": [
      "Val Epoch 2/20: 100%|██████████| 1/1 [00:00<00:00,  1.64it/s, loss=0.405]\n"
     ]
    },
    {
     "name": "stdout",
     "output_type": "stream",
     "text": [
      "val Loss: 0.4050 Acc: 0.8125\n",
      "\n",
      "Epoch 3/20\n",
      "----------\n"
     ]
    },
    {
     "name": "stderr",
     "output_type": "stream",
     "text": [
      "Train Epoch 3/20: 100%|██████████| 326/326 [04:20<00:00,  1.25it/s, loss=0.294]\n"
     ]
    },
    {
     "name": "stdout",
     "output_type": "stream",
     "text": [
      "train Loss: 0.1533 Acc: 0.9383\n"
     ]
    },
    {
     "name": "stderr",
     "output_type": "stream",
     "text": [
      "Val Epoch 3/20: 100%|██████████| 1/1 [00:00<00:00,  1.62it/s, loss=0.153]\n"
     ]
    },
    {
     "name": "stdout",
     "output_type": "stream",
     "text": [
      "val Loss: 0.1534 Acc: 0.8750\n",
      "\n",
      "Epoch 4/20\n",
      "----------\n"
     ]
    },
    {
     "name": "stderr",
     "output_type": "stream",
     "text": [
      "Train Epoch 4/20: 100%|██████████| 326/326 [04:20<00:00,  1.25it/s, loss=0.136]\n"
     ]
    },
    {
     "name": "stdout",
     "output_type": "stream",
     "text": [
      "train Loss: 0.1477 Acc: 0.9433\n"
     ]
    },
    {
     "name": "stderr",
     "output_type": "stream",
     "text": [
      "Val Epoch 4/20: 100%|██████████| 1/1 [00:00<00:00,  1.57it/s, loss=0.0509]\n"
     ]
    },
    {
     "name": "stdout",
     "output_type": "stream",
     "text": [
      "val Loss: 0.0509 Acc: 1.0000\n",
      "\n",
      "Epoch 5/20\n",
      "----------\n"
     ]
    },
    {
     "name": "stderr",
     "output_type": "stream",
     "text": [
      "Train Epoch 5/20: 100%|██████████| 326/326 [04:20<00:00,  1.25it/s, loss=0.258]\n"
     ]
    },
    {
     "name": "stdout",
     "output_type": "stream",
     "text": [
      "train Loss: 0.1300 Acc: 0.9525\n"
     ]
    },
    {
     "name": "stderr",
     "output_type": "stream",
     "text": [
      "Val Epoch 5/20: 100%|██████████| 1/1 [00:00<00:00,  1.60it/s, loss=0.737]\n"
     ]
    },
    {
     "name": "stdout",
     "output_type": "stream",
     "text": [
      "val Loss: 0.7373 Acc: 0.6875\n",
      "\n",
      "Epoch 6/20\n",
      "----------\n"
     ]
    },
    {
     "name": "stderr",
     "output_type": "stream",
     "text": [
      "Train Epoch 6/20: 100%|██████████| 326/326 [04:21<00:00,  1.25it/s, loss=0.157]\n"
     ]
    },
    {
     "name": "stdout",
     "output_type": "stream",
     "text": [
      "train Loss: 0.1238 Acc: 0.9532\n"
     ]
    },
    {
     "name": "stderr",
     "output_type": "stream",
     "text": [
      "Val Epoch 6/20: 100%|██████████| 1/1 [00:00<00:00,  1.62it/s, loss=0.933]\n"
     ]
    },
    {
     "name": "stdout",
     "output_type": "stream",
     "text": [
      "val Loss: 0.9327 Acc: 0.7500\n",
      "\n",
      "Epoch 7/20\n",
      "----------\n"
     ]
    },
    {
     "name": "stderr",
     "output_type": "stream",
     "text": [
      "Train Epoch 7/20: 100%|██████████| 326/326 [04:21<00:00,  1.25it/s, loss=0.0126]\n"
     ]
    },
    {
     "name": "stdout",
     "output_type": "stream",
     "text": [
      "train Loss: 0.1053 Acc: 0.9592\n"
     ]
    },
    {
     "name": "stderr",
     "output_type": "stream",
     "text": [
      "Val Epoch 7/20: 100%|██████████| 1/1 [00:00<00:00,  1.60it/s, loss=0.0331]\n"
     ]
    },
    {
     "name": "stdout",
     "output_type": "stream",
     "text": [
      "val Loss: 0.0331 Acc: 1.0000\n",
      "\n",
      "Epoch 8/20\n",
      "----------\n"
     ]
    },
    {
     "name": "stderr",
     "output_type": "stream",
     "text": [
      "Train Epoch 8/20: 100%|██████████| 326/326 [04:20<00:00,  1.25it/s, loss=0.00919]\n"
     ]
    },
    {
     "name": "stdout",
     "output_type": "stream",
     "text": [
      "train Loss: 0.1163 Acc: 0.9536\n"
     ]
    },
    {
     "name": "stderr",
     "output_type": "stream",
     "text": [
      "Val Epoch 8/20: 100%|██████████| 1/1 [00:00<00:00,  1.63it/s, loss=0.0266]\n"
     ]
    },
    {
     "name": "stdout",
     "output_type": "stream",
     "text": [
      "val Loss: 0.0266 Acc: 1.0000\n",
      "\n",
      "Epoch 9/20\n",
      "----------\n"
     ]
    },
    {
     "name": "stderr",
     "output_type": "stream",
     "text": [
      "Train Epoch 9/20: 100%|██████████| 326/326 [04:20<00:00,  1.25it/s, loss=0.0195]\n"
     ]
    },
    {
     "name": "stdout",
     "output_type": "stream",
     "text": [
      "train Loss: 0.0938 Acc: 0.9661\n"
     ]
    },
    {
     "name": "stderr",
     "output_type": "stream",
     "text": [
      "Val Epoch 9/20: 100%|██████████| 1/1 [00:00<00:00,  1.61it/s, loss=0.0597]\n"
     ]
    },
    {
     "name": "stdout",
     "output_type": "stream",
     "text": [
      "val Loss: 0.0597 Acc: 1.0000\n",
      "\n",
      "Epoch 10/20\n",
      "----------\n"
     ]
    },
    {
     "name": "stderr",
     "output_type": "stream",
     "text": [
      "Train Epoch 10/20: 100%|██████████| 326/326 [04:21<00:00,  1.25it/s, loss=0.147]\n"
     ]
    },
    {
     "name": "stdout",
     "output_type": "stream",
     "text": [
      "train Loss: 0.0913 Acc: 0.9643\n"
     ]
    },
    {
     "name": "stderr",
     "output_type": "stream",
     "text": [
      "Val Epoch 10/20: 100%|██████████| 1/1 [00:00<00:00,  1.64it/s, loss=0.0395]\n"
     ]
    },
    {
     "name": "stdout",
     "output_type": "stream",
     "text": [
      "val Loss: 0.0395 Acc: 1.0000\n",
      "\n",
      "Epoch 11/20\n",
      "----------\n"
     ]
    },
    {
     "name": "stderr",
     "output_type": "stream",
     "text": [
      "Train Epoch 11/20: 100%|██████████| 326/326 [04:20<00:00,  1.25it/s, loss=0.29]\n"
     ]
    },
    {
     "name": "stdout",
     "output_type": "stream",
     "text": [
      "train Loss: 0.0899 Acc: 0.9672\n"
     ]
    },
    {
     "name": "stderr",
     "output_type": "stream",
     "text": [
      "Val Epoch 11/20: 100%|██████████| 1/1 [00:00<00:00,  1.63it/s, loss=0.0289]\n"
     ]
    },
    {
     "name": "stdout",
     "output_type": "stream",
     "text": [
      "val Loss: 0.0289 Acc: 1.0000\n",
      "\n",
      "Epoch 12/20\n",
      "----------\n"
     ]
    },
    {
     "name": "stderr",
     "output_type": "stream",
     "text": [
      "Train Epoch 12/20: 100%|██████████| 326/326 [04:20<00:00,  1.25it/s, loss=0.00868]\n"
     ]
    },
    {
     "name": "stdout",
     "output_type": "stream",
     "text": [
      "train Loss: 0.0899 Acc: 0.9663\n"
     ]
    },
    {
     "name": "stderr",
     "output_type": "stream",
     "text": [
      "Val Epoch 12/20: 100%|██████████| 1/1 [00:00<00:00,  1.52it/s, loss=0.0179]\n"
     ]
    },
    {
     "name": "stdout",
     "output_type": "stream",
     "text": [
      "val Loss: 0.0179 Acc: 1.0000\n",
      "\n",
      "Epoch 13/20\n",
      "----------\n"
     ]
    },
    {
     "name": "stderr",
     "output_type": "stream",
     "text": [
      "Train Epoch 13/20: 100%|██████████| 326/326 [04:21<00:00,  1.25it/s, loss=0.036]\n"
     ]
    },
    {
     "name": "stdout",
     "output_type": "stream",
     "text": [
      "train Loss: 0.0642 Acc: 0.9751\n"
     ]
    },
    {
     "name": "stderr",
     "output_type": "stream",
     "text": [
      "Val Epoch 13/20: 100%|██████████| 1/1 [00:00<00:00,  1.58it/s, loss=0.0725]\n"
     ]
    },
    {
     "name": "stdout",
     "output_type": "stream",
     "text": [
      "val Loss: 0.0725 Acc: 1.0000\n",
      "\n",
      "Epoch 14/20\n",
      "----------\n"
     ]
    },
    {
     "name": "stderr",
     "output_type": "stream",
     "text": [
      "Train Epoch 14/20: 100%|██████████| 326/326 [04:20<00:00,  1.25it/s, loss=0.136]\n"
     ]
    },
    {
     "name": "stdout",
     "output_type": "stream",
     "text": [
      "train Loss: 0.0602 Acc: 0.9768\n"
     ]
    },
    {
     "name": "stderr",
     "output_type": "stream",
     "text": [
      "Val Epoch 14/20: 100%|██████████| 1/1 [00:00<00:00,  1.65it/s, loss=0.712]\n"
     ]
    },
    {
     "name": "stdout",
     "output_type": "stream",
     "text": [
      "val Loss: 0.7120 Acc: 0.8750\n",
      "\n",
      "Epoch 15/20\n",
      "----------\n"
     ]
    },
    {
     "name": "stderr",
     "output_type": "stream",
     "text": [
      "Train Epoch 15/20: 100%|██████████| 326/326 [04:20<00:00,  1.25it/s, loss=0.0588]\n"
     ]
    },
    {
     "name": "stdout",
     "output_type": "stream",
     "text": [
      "train Loss: 0.0627 Acc: 0.9770\n"
     ]
    },
    {
     "name": "stderr",
     "output_type": "stream",
     "text": [
      "Val Epoch 15/20: 100%|██████████| 1/1 [00:00<00:00,  1.57it/s, loss=0.237]\n"
     ]
    },
    {
     "name": "stdout",
     "output_type": "stream",
     "text": [
      "val Loss: 0.2368 Acc: 0.9375\n",
      "\n",
      "Epoch 16/20\n",
      "----------\n"
     ]
    },
    {
     "name": "stderr",
     "output_type": "stream",
     "text": [
      "Train Epoch 16/20: 100%|██████████| 326/326 [04:21<00:00,  1.25it/s, loss=0.00562]\n"
     ]
    },
    {
     "name": "stdout",
     "output_type": "stream",
     "text": [
      "train Loss: 0.0561 Acc: 0.9797\n"
     ]
    },
    {
     "name": "stderr",
     "output_type": "stream",
     "text": [
      "Val Epoch 16/20: 100%|██████████| 1/1 [00:00<00:00,  1.61it/s, loss=0.369]\n"
     ]
    },
    {
     "name": "stdout",
     "output_type": "stream",
     "text": [
      "val Loss: 0.3686 Acc: 0.8750\n",
      "\n",
      "Epoch 17/20\n",
      "----------\n"
     ]
    },
    {
     "name": "stderr",
     "output_type": "stream",
     "text": [
      "Train Epoch 17/20: 100%|██████████| 326/326 [04:20<00:00,  1.25it/s, loss=0.0268]\n"
     ]
    },
    {
     "name": "stdout",
     "output_type": "stream",
     "text": [
      "train Loss: 0.0543 Acc: 0.9820\n"
     ]
    },
    {
     "name": "stderr",
     "output_type": "stream",
     "text": [
      "Val Epoch 17/20: 100%|██████████| 1/1 [00:00<00:00,  1.47it/s, loss=0.448]\n"
     ]
    },
    {
     "name": "stdout",
     "output_type": "stream",
     "text": [
      "val Loss: 0.4481 Acc: 0.8750\n",
      "\n",
      "Epoch 18/20\n",
      "----------\n"
     ]
    },
    {
     "name": "stderr",
     "output_type": "stream",
     "text": [
      "Train Epoch 18/20: 100%|██████████| 326/326 [04:20<00:00,  1.25it/s, loss=0.000965]\n"
     ]
    },
    {
     "name": "stdout",
     "output_type": "stream",
     "text": [
      "train Loss: 0.0513 Acc: 0.9801\n"
     ]
    },
    {
     "name": "stderr",
     "output_type": "stream",
     "text": [
      "Val Epoch 18/20: 100%|██████████| 1/1 [00:00<00:00,  1.62it/s, loss=0.171]\n"
     ]
    },
    {
     "name": "stdout",
     "output_type": "stream",
     "text": [
      "val Loss: 0.1710 Acc: 0.9375\n",
      "\n",
      "Epoch 19/20\n",
      "----------\n"
     ]
    },
    {
     "name": "stderr",
     "output_type": "stream",
     "text": [
      "Train Epoch 19/20: 100%|██████████| 326/326 [04:20<00:00,  1.25it/s, loss=0.00531]\n"
     ]
    },
    {
     "name": "stdout",
     "output_type": "stream",
     "text": [
      "train Loss: 0.0535 Acc: 0.9780\n"
     ]
    },
    {
     "name": "stderr",
     "output_type": "stream",
     "text": [
      "Val Epoch 19/20: 100%|██████████| 1/1 [00:00<00:00,  1.62it/s, loss=0.307]\n"
     ]
    },
    {
     "name": "stdout",
     "output_type": "stream",
     "text": [
      "val Loss: 0.3071 Acc: 0.8750\n",
      "\n",
      "Epoch 20/20\n",
      "----------\n"
     ]
    },
    {
     "name": "stderr",
     "output_type": "stream",
     "text": [
      "Train Epoch 20/20: 100%|██████████| 326/326 [04:20<00:00,  1.25it/s, loss=0.204]\n"
     ]
    },
    {
     "name": "stdout",
     "output_type": "stream",
     "text": [
      "train Loss: 0.0475 Acc: 0.9826\n"
     ]
    },
    {
     "name": "stderr",
     "output_type": "stream",
     "text": [
      "Val Epoch 20/20: 100%|██████████| 1/1 [00:00<00:00,  1.59it/s, loss=0.378]\n"
     ]
    },
    {
     "name": "stdout",
     "output_type": "stream",
     "text": [
      "val Loss: 0.3779 Acc: 0.8750\n",
      "\n",
      "Training complete in 87m 10s\n",
      "Best val Acc: 1.000000\n"
     ]
    },
    {
     "name": "stderr",
     "output_type": "stream",
     "text": [
      "Testing: 100%|██████████| 39/39 [00:05<00:00,  6.97it/s, loss=0.0103]\n"
     ]
    },
    {
     "name": "stdout",
     "output_type": "stream",
     "text": [
      "\n",
      "Test Results:\n",
      "Test Loss: 0.1877\n",
      "Test Accuracy: 0.9567 (597/624)\n",
      "Metrics plot saved to convnext_tiny_training_metrics.png\n"
     ]
    },
    {
     "data": {
      "image/png": "[encoded data removed]",
      "text/plain": [
       "<Figure size 1500x500 with 2 Axes>"
      ]
     },
     "metadata": {},
     "output_type": "display_data"
    },
    {
     "name": "stdout",
     "output_type": "stream",
     "text": [
      "Confusion matrix saved to convnext_tiny_confusion_matrix.png\n"
     ]
    },
    {
     "name": "stderr",
     "output_type": "stream",
     "text": [
      "2025/09/20 15:02:25 WARNING mlflow.utils.requirements_utils: Found torch version (2.6.0+cu124) contains a local version label (+cu124). MLflow logged a pip requirement for this package as 'torch==2.6.0' without the local version label to make it installable from PyPI. To specify pip requirements containing local version labels, please use `conda_env` or `pip_requirements`.\n",
      "2025/09/20 15:02:34 WARNING mlflow.utils.requirements_utils: The following packages were not found in the public PyPI package index as of 2024-02-29; if these packages are not present in the public PyPI index, you must install them manually before loading your model: {'dataproc-spark-connect'}\n",
      "2025/09/20 15:02:34 WARNING mlflow.utils.requirements_utils: Found torchvision version (0.21.0+cu124) contains a local version label (+cu124). MLflow logged a pip requirement for this package as 'torchvision==0.21.0' without the local version label to make it installable from PyPI. To specify pip requirements containing local version labels, please use `conda_env` or `pip_requirements`.\n",
      "Successfully registered model 'pneumonia-detection-convnext_tiny'.\n",
      "Created version '1' of model 'pneumonia-detection-convnext_tiny'.\n",
      "2025/09/20 15:02:35 INFO mlflow.system_metrics.system_metrics_monitor: Stopping system metrics monitoring...\n"
     ]
    },
    {
     "name": "stdout",
     "output_type": "stream",
     "text": [
      "Logged model and registered as 'pneumonia-detection-convnext_tiny'.\n",
      "Model saved to convnext_tiny_best.pth\n",
      "\n",
      "=========================\n",
      "  COMPLETED MLFLOW RUN FOR: CONVNEXT_TINY\n",
      "=========================\n",
      "\n"
     ]
    },
    {
     "name": "stderr",
     "output_type": "stream",
     "text": [
      "2025/09/20 15:02:35 INFO mlflow.system_metrics.system_metrics_monitor: Successfully terminated system metrics monitoring!\n",
      "2025/09/20 15:02:35 INFO mlflow.system_metrics.system_metrics_monitor: Started monitoring system metrics.\n"
     ]
    },
    {
     "name": "stdout",
     "output_type": "stream",
     "text": [
      "\n",
      "=========================\n",
      "  STARTING MLFLOW RUN FOR: VIT_B_16\n",
      "=========================\n",
      "\n"
     ]
    },
    {
     "name": "stderr",
     "output_type": "stream",
     "text": [
      "Downloading: \"https://download.pytorch.org/models/vit_b_16-c867db91.pth\" to /root/.cache/torch/hub/checkpoints/vit_b_16-c867db91.pth\n",
      "100%|██████████| 330M/330M [00:01<00:00, 195MB/s]\n"
     ]
    },
    {
     "name": "stdout",
     "output_type": "stream",
     "text": [
      "Epoch 1/20\n",
      "----------\n"
     ]
    },
    {
     "name": "stderr",
     "output_type": "stream",
     "text": [
      "Train Epoch 1/20: 100%|██████████| 326/326 [01:41<00:00,  3.21it/s, loss=0.439]\n"
     ]
    },
    {
     "name": "stdout",
     "output_type": "stream",
     "text": [
      "train Loss: 0.4470 Acc: 0.7929\n"
     ]
    },
    {
     "name": "stderr",
     "output_type": "stream",
     "text": [
      "Val Epoch 1/20: 100%|██████████| 1/1 [00:00<00:00,  1.48it/s, loss=1.24]\n"
     ]
    },
    {
     "name": "stdout",
     "output_type": "stream",
     "text": [
      "val Loss: 1.2435 Acc: 0.6250\n",
      "\n",
      "Epoch 2/20\n",
      "----------\n"
     ]
    },
    {
     "name": "stderr",
     "output_type": "stream",
     "text": [
      "Train Epoch 2/20: 100%|██████████| 326/326 [01:41<00:00,  3.21it/s, loss=0.0874]\n"
     ]
    },
    {
     "name": "stdout",
     "output_type": "stream",
     "text": [
      "train Loss: 0.3185 Acc: 0.8618\n"
     ]
    },
    {
     "name": "stderr",
     "output_type": "stream",
     "text": [
      "Val Epoch 2/20: 100%|██████████| 1/1 [00:00<00:00,  1.50it/s, loss=1.97]\n"
     ]
    },
    {
     "name": "stdout",
     "output_type": "stream",
     "text": [
      "val Loss: 1.9691 Acc: 0.6250\n",
      "\n",
      "Epoch 3/20\n",
      "----------\n"
     ]
    },
    {
     "name": "stderr",
     "output_type": "stream",
     "text": [
      "Train Epoch 3/20: 100%|██████████| 326/326 [01:41<00:00,  3.20it/s, loss=0.17]\n"
     ]
    },
    {
     "name": "stdout",
     "output_type": "stream",
     "text": [
      "train Loss: 0.2871 Acc: 0.8813\n"
     ]
    },
    {
     "name": "stderr",
     "output_type": "stream",
     "text": [
      "Val Epoch 3/20: 100%|██████████| 1/1 [00:00<00:00,  1.45it/s, loss=1.48]\n"
     ]
    },
    {
     "name": "stdout",
     "output_type": "stream",
     "text": [
      "val Loss: 1.4819 Acc: 0.6250\n",
      "\n",
      "Epoch 4/20\n",
      "----------\n"
     ]
    },
    {
     "name": "stderr",
     "output_type": "stream",
     "text": [
      "Train Epoch 4/20: 100%|██████████| 326/326 [01:41<00:00,  3.21it/s, loss=0.236]\n"
     ]
    },
    {
     "name": "stdout",
     "output_type": "stream",
     "text": [
      "train Loss: 0.2785 Acc: 0.8840\n"
     ]
    },
    {
     "name": "stderr",
     "output_type": "stream",
     "text": [
      "Val Epoch 4/20: 100%|██████████| 1/1 [00:00<00:00,  1.49it/s, loss=1.05]\n"
     ]
    },
    {
     "name": "stdout",
     "output_type": "stream",
     "text": [
      "val Loss: 1.0475 Acc: 0.6250\n",
      "\n",
      "Epoch 5/20\n",
      "----------\n"
     ]
    },
    {
     "name": "stderr",
     "output_type": "stream",
     "text": [
      "Train Epoch 5/20: 100%|██████████| 326/326 [01:41<00:00,  3.21it/s, loss=0.32]\n"
     ]
    },
    {
     "name": "stdout",
     "output_type": "stream",
     "text": [
      "train Loss: 0.2374 Acc: 0.9043\n"
     ]
    },
    {
     "name": "stderr",
     "output_type": "stream",
     "text": [
      "Val Epoch 5/20: 100%|██████████| 1/1 [00:00<00:00,  1.47it/s, loss=0.842]\n"
     ]
    },
    {
     "name": "stdout",
     "output_type": "stream",
     "text": [
      "val Loss: 0.8418 Acc: 0.6250\n",
      "\n",
      "Epoch 6/20\n",
      "----------\n"
     ]
    },
    {
     "name": "stderr",
     "output_type": "stream",
     "text": [
      "Train Epoch 6/20: 100%|██████████| 326/326 [01:41<00:00,  3.21it/s, loss=0.157]\n"
     ]
    },
    {
     "name": "stdout",
     "output_type": "stream",
     "text": [
      "train Loss: 0.2234 Acc: 0.9099\n"
     ]
    },
    {
     "name": "stderr",
     "output_type": "stream",
     "text": [
      "Val Epoch 6/20: 100%|██████████| 1/1 [00:00<00:00,  1.50it/s, loss=0.564]\n"
     ]
    },
    {
     "name": "stdout",
     "output_type": "stream",
     "text": [
      "val Loss: 0.5645 Acc: 0.8125\n",
      "\n",
      "Epoch 7/20\n",
      "----------\n"
     ]
    },
    {
     "name": "stderr",
     "output_type": "stream",
     "text": [
      "Train Epoch 7/20: 100%|██████████| 326/326 [01:41<00:00,  3.20it/s, loss=0.281]\n"
     ]
    },
    {
     "name": "stdout",
     "output_type": "stream",
     "text": [
      "train Loss: 0.2128 Acc: 0.9130\n"
     ]
    },
    {
     "name": "stderr",
     "output_type": "stream",
     "text": [
      "Val Epoch 7/20: 100%|██████████| 1/1 [00:00<00:00,  1.51it/s, loss=0.683]\n"
     ]
    },
    {
     "name": "stdout",
     "output_type": "stream",
     "text": [
      "val Loss: 0.6833 Acc: 0.6875\n",
      "\n",
      "Epoch 8/20\n",
      "----------\n"
     ]
    },
    {
     "name": "stderr",
     "output_type": "stream",
     "text": [
      "Train Epoch 8/20: 100%|██████████| 326/326 [01:41<00:00,  3.21it/s, loss=0.138]\n"
     ]
    },
    {
     "name": "stdout",
     "output_type": "stream",
     "text": [
      "train Loss: 0.2046 Acc: 0.9174\n"
     ]
    },
    {
     "name": "stderr",
     "output_type": "stream",
     "text": [
      "Val Epoch 8/20: 100%|██████████| 1/1 [00:00<00:00,  1.48it/s, loss=0.369]\n"
     ]
    },
    {
     "name": "stdout",
     "output_type": "stream",
     "text": [
      "val Loss: 0.3690 Acc: 0.8750\n",
      "\n",
      "Epoch 9/20\n",
      "----------\n"
     ]
    },
    {
     "name": "stderr",
     "output_type": "stream",
     "text": [
      "Train Epoch 9/20: 100%|██████████| 326/326 [01:41<00:00,  3.21it/s, loss=0.0779]\n"
     ]
    },
    {
     "name": "stdout",
     "output_type": "stream",
     "text": [
      "train Loss: 0.1937 Acc: 0.9250\n"
     ]
    },
    {
     "name": "stderr",
     "output_type": "stream",
     "text": [
      "Val Epoch 9/20: 100%|██████████| 1/1 [00:00<00:00,  1.49it/s, loss=0.26]\n"
     ]
    },
    {
     "name": "stdout",
     "output_type": "stream",
     "text": [
      "val Loss: 0.2598 Acc: 1.0000\n",
      "\n",
      "Epoch 10/20\n",
      "----------\n"
     ]
    },
    {
     "name": "stderr",
     "output_type": "stream",
     "text": [
      "Train Epoch 10/20: 100%|██████████| 326/326 [01:41<00:00,  3.21it/s, loss=0.233]\n"
     ]
    },
    {
     "name": "stdout",
     "output_type": "stream",
     "text": [
      "train Loss: 0.1704 Acc: 0.9279\n"
     ]
    },
    {
     "name": "stderr",
     "output_type": "stream",
     "text": [
      "Val Epoch 10/20: 100%|██████████| 1/1 [00:00<00:00,  1.41it/s, loss=0.743]\n"
     ]
    },
    {
     "name": "stdout",
     "output_type": "stream",
     "text": [
      "val Loss: 0.7425 Acc: 0.6875\n",
      "\n",
      "Epoch 11/20\n",
      "----------\n"
     ]
    },
    {
     "name": "stderr",
     "output_type": "stream",
     "text": [
      "Train Epoch 11/20: 100%|██████████| 326/326 [01:41<00:00,  3.20it/s, loss=0.0884]\n"
     ]
    },
    {
     "name": "stdout",
     "output_type": "stream",
     "text": [
      "train Loss: 0.1624 Acc: 0.9375\n"
     ]
    },
    {
     "name": "stderr",
     "output_type": "stream",
     "text": [
      "Val Epoch 11/20: 100%|██████████| 1/1 [00:00<00:00,  1.44it/s, loss=0.4]\n"
     ]
    },
    {
     "name": "stdout",
     "output_type": "stream",
     "text": [
      "val Loss: 0.3999 Acc: 0.9375\n",
      "\n",
      "Epoch 12/20\n",
      "----------\n"
     ]
    },
    {
     "name": "stderr",
     "output_type": "stream",
     "text": [
      "Train Epoch 12/20: 100%|██████████| 326/326 [01:42<00:00,  3.20it/s, loss=0.164]\n"
     ]
    },
    {
     "name": "stdout",
     "output_type": "stream",
     "text": [
      "train Loss: 0.1602 Acc: 0.9377\n"
     ]
    },
    {
     "name": "stderr",
     "output_type": "stream",
     "text": [
      "Val Epoch 12/20: 100%|██████████| 1/1 [00:00<00:00,  1.41it/s, loss=0.576]\n"
     ]
    },
    {
     "name": "stdout",
     "output_type": "stream",
     "text": [
      "val Loss: 0.5765 Acc: 0.6875\n",
      "\n",
      "Epoch 13/20\n",
      "----------\n"
     ]
    },
    {
     "name": "stderr",
     "output_type": "stream",
     "text": [
      "Train Epoch 13/20: 100%|██████████| 326/326 [01:42<00:00,  3.19it/s, loss=0.0795]\n"
     ]
    },
    {
     "name": "stdout",
     "output_type": "stream",
     "text": [
      "train Loss: 0.1529 Acc: 0.9383\n"
     ]
    },
    {
     "name": "stderr",
     "output_type": "stream",
     "text": [
      "Val Epoch 13/20: 100%|██████████| 1/1 [00:00<00:00,  1.39it/s, loss=0.392]\n"
     ]
    },
    {
     "name": "stdout",
     "output_type": "stream",
     "text": [
      "val Loss: 0.3918 Acc: 0.8125\n",
      "\n",
      "Epoch 14/20\n",
      "----------\n"
     ]
    },
    {
     "name": "stderr",
     "output_type": "stream",
     "text": [
      "Train Epoch 14/20: 100%|██████████| 326/326 [01:41<00:00,  3.20it/s, loss=0.181]\n"
     ]
    },
    {
     "name": "stdout",
     "output_type": "stream",
     "text": [
      "train Loss: 0.1394 Acc: 0.9475\n"
     ]
    },
    {
     "name": "stderr",
     "output_type": "stream",
     "text": [
      "Val Epoch 14/20: 100%|██████████| 1/1 [00:00<00:00,  1.48it/s, loss=0.905]\n"
     ]
    },
    {
     "name": "stdout",
     "output_type": "stream",
     "text": [
      "val Loss: 0.9052 Acc: 0.6875\n",
      "\n",
      "Epoch 15/20\n",
      "----------\n"
     ]
    },
    {
     "name": "stderr",
     "output_type": "stream",
     "text": [
      "Train Epoch 15/20: 100%|██████████| 326/326 [01:41<00:00,  3.20it/s, loss=0.115]\n"
     ]
    },
    {
     "name": "stdout",
     "output_type": "stream",
     "text": [
      "train Loss: 0.1304 Acc: 0.9473\n"
     ]
    },
    {
     "name": "stderr",
     "output_type": "stream",
     "text": [
      "Val Epoch 15/20: 100%|██████████| 1/1 [00:00<00:00,  1.53it/s, loss=0.392]\n"
     ]
    },
    {
     "name": "stdout",
     "output_type": "stream",
     "text": [
      "val Loss: 0.3916 Acc: 0.8750\n",
      "\n",
      "Epoch 16/20\n",
      "----------\n"
     ]
    },
    {
     "name": "stderr",
     "output_type": "stream",
     "text": [
      "Train Epoch 16/20: 100%|██████████| 326/326 [01:41<00:00,  3.20it/s, loss=0.24]\n"
     ]
    },
    {
     "name": "stdout",
     "output_type": "stream",
     "text": [
      "train Loss: 0.1242 Acc: 0.9519\n"
     ]
    },
    {
     "name": "stderr",
     "output_type": "stream",
     "text": [
      "Val Epoch 16/20: 100%|██████████| 1/1 [00:00<00:00,  1.43it/s, loss=0.284]\n"
     ]
    },
    {
     "name": "stdout",
     "output_type": "stream",
     "text": [
      "val Loss: 0.2843 Acc: 0.9375\n",
      "\n",
      "Epoch 17/20\n",
      "----------\n"
     ]
    },
    {
     "name": "stderr",
     "output_type": "stream",
     "text": [
      "Train Epoch 17/20: 100%|██████████| 326/326 [01:41<00:00,  3.20it/s, loss=0.0147]\n"
     ]
    },
    {
     "name": "stdout",
     "output_type": "stream",
     "text": [
      "train Loss: 0.1086 Acc: 0.9557\n"
     ]
    },
    {
     "name": "stderr",
     "output_type": "stream",
     "text": [
      "Val Epoch 17/20: 100%|██████████| 1/1 [00:00<00:00,  1.47it/s, loss=0.225]\n"
     ]
    },
    {
     "name": "stdout",
     "output_type": "stream",
     "text": [
      "val Loss: 0.2250 Acc: 0.9375\n",
      "\n",
      "Epoch 18/20\n",
      "----------\n"
     ]
    },
    {
     "name": "stderr",
     "output_type": "stream",
     "text": [
      "Train Epoch 18/20: 100%|██████████| 326/326 [01:41<00:00,  3.20it/s, loss=0.00705]\n"
     ]
    },
    {
     "name": "stdout",
     "output_type": "stream",
     "text": [
      "train Loss: 0.0940 Acc: 0.9634\n"
     ]
    },
    {
     "name": "stderr",
     "output_type": "stream",
     "text": [
      "Val Epoch 18/20: 100%|██████████| 1/1 [00:00<00:00,  1.48it/s, loss=0.109]\n"
     ]
    },
    {
     "name": "stdout",
     "output_type": "stream",
     "text": [
      "val Loss: 0.1094 Acc: 1.0000\n",
      "\n",
      "Epoch 19/20\n",
      "----------\n"
     ]
    },
    {
     "name": "stderr",
     "output_type": "stream",
     "text": [
      "Train Epoch 19/20: 100%|██████████| 326/326 [01:41<00:00,  3.20it/s, loss=0.0906]\n"
     ]
    },
    {
     "name": "stdout",
     "output_type": "stream",
     "text": [
      "train Loss: 0.1066 Acc: 0.9605\n"
     ]
    },
    {
     "name": "stderr",
     "output_type": "stream",
     "text": [
      "Val Epoch 19/20: 100%|██████████| 1/1 [00:00<00:00,  1.49it/s, loss=0.168]\n"
     ]
    },
    {
     "name": "stdout",
     "output_type": "stream",
     "text": [
      "val Loss: 0.1677 Acc: 1.0000\n",
      "\n",
      "Epoch 20/20\n",
      "----------\n"
     ]
    },
    {
     "name": "stderr",
     "output_type": "stream",
     "text": [
      "Train Epoch 20/20: 100%|██████████| 326/326 [01:41<00:00,  3.20it/s, loss=0.0411]\n"
     ]
    },
    {
     "name": "stdout",
     "output_type": "stream",
     "text": [
      "train Loss: 0.1073 Acc: 0.9594\n"
     ]
    },
    {
     "name": "stderr",
     "output_type": "stream",
     "text": [
      "Val Epoch 20/20: 100%|██████████| 1/1 [00:00<00:00,  1.48it/s, loss=0.178]\n"
     ]
    },
    {
     "name": "stdout",
     "output_type": "stream",
     "text": [
      "val Loss: 0.1783 Acc: 1.0000\n",
      "\n",
      "Training complete in 34m 10s\n",
      "Best val Acc: 1.000000\n"
     ]
    },
    {
     "name": "stderr",
     "output_type": "stream",
     "text": [
      "Testing: 100%|██████████| 39/39 [00:07<00:00,  5.41it/s, loss=0.35]\n"
     ]
    },
    {
     "name": "stdout",
     "output_type": "stream",
     "text": [
      "\n",
      "Test Results:\n",
      "Test Loss: 0.1635\n",
      "Test Accuracy: 0.9359 (584/624)\n",
      "Metrics plot saved to vit_b_16_training_metrics.png\n"
     ]
    },
    {
     "data": {
      "image/png": "[encoded data removed]",
      "text/plain": [
       "<Figure size 1500x500 with 2 Axes>"
      ]
     },
     "metadata": {},
     "output_type": "display_data"
    },
    {
     "name": "stdout",
     "output_type": "stream",
     "text": [
      "Confusion matrix saved to vit_b_16_confusion_matrix.png\n"
     ]
    },
    {
     "name": "stderr",
     "output_type": "stream",
     "text": [
      "2025/09/20 15:37:03 WARNING mlflow.utils.requirements_utils: Found torch version (2.6.0+cu124) contains a local version label (+cu124). MLflow logged a pip requirement for this package as 'torch==2.6.0' without the local version label to make it installable from PyPI. To specify pip requirements containing local version labels, please use `conda_env` or `pip_requirements`.\n",
      "2025/09/20 15:37:12 WARNING mlflow.utils.requirements_utils: The following packages were not found in the public PyPI package index as of 2024-02-29; if these packages are not present in the public PyPI index, you must install them manually before loading your model: {'dataproc-spark-connect'}\n",
      "2025/09/20 15:37:13 WARNING mlflow.utils.requirements_utils: Found torchvision version (0.21.0+cu124) contains a local version label (+cu124). MLflow logged a pip requirement for this package as 'torchvision==0.21.0' without the local version label to make it installable from PyPI. To specify pip requirements containing local version labels, please use `conda_env` or `pip_requirements`.\n",
      "Successfully registered model 'pneumonia-detection-vit_b_16'.\n",
      "Created version '1' of model 'pneumonia-detection-vit_b_16'.\n"
     ]
    },
    {
     "name": "stdout",
     "output_type": "stream",
     "text": [
      "Logged model and registered as 'pneumonia-detection-vit_b_16'.\n"
     ]
    },
    {
     "name": "stderr",
     "output_type": "stream",
     "text": [
      "2025/09/20 15:37:14 INFO mlflow.system_metrics.system_metrics_monitor: Stopping system metrics monitoring...\n",
      "2025/09/20 15:37:14 INFO mlflow.system_metrics.system_metrics_monitor: Successfully terminated system metrics monitoring!\n",
      "2025/09/20 15:37:14 INFO mlflow.system_metrics.system_metrics_monitor: Started monitoring system metrics.\n"
     ]
    },
    {
     "name": "stdout",
     "output_type": "stream",
     "text": [
      "Model saved to vit_b_16_best.pth\n",
      "\n",
      "=========================\n",
      "  COMPLETED MLFLOW RUN FOR: VIT_B_16\n",
      "=========================\n",
      "\n",
      "\n",
      "=========================\n",
      "  STARTING MLFLOW RUN FOR: SWIN_T\n",
      "=========================\n",
      "\n"
     ]
    },
    {
     "name": "stderr",
     "output_type": "stream",
     "text": [
      "Downloading: \"https://download.pytorch.org/models/swin_t-704ceda3.pth\" to /root/.cache/torch/hub/checkpoints/swin_t-704ceda3.pth\n",
      "100%|██████████| 108M/108M [00:00<00:00, 220MB/s]\n"
     ]
    },
    {
     "name": "stdout",
     "output_type": "stream",
     "text": [
      "Epoch 1/20\n",
      "----------\n"
     ]
    },
    {
     "name": "stderr",
     "output_type": "stream",
     "text": [
      "Train Epoch 1/20: 100%|██████████| 326/326 [00:51<00:00,  6.36it/s, loss=0.152]\n"
     ]
    },
    {
     "name": "stdout",
     "output_type": "stream",
     "text": [
      "train Loss: 0.3853 Acc: 0.8227\n"
     ]
    },
    {
     "name": "stderr",
     "output_type": "stream",
     "text": [
      "Val Epoch 1/20: 100%|██████████| 1/1 [00:00<00:00,  1.67it/s, loss=0.334]\n"
     ]
    },
    {
     "name": "stdout",
     "output_type": "stream",
     "text": [
      "val Loss: 0.3340 Acc: 0.8125\n",
      "\n",
      "Epoch 2/20\n",
      "----------\n"
     ]
    },
    {
     "name": "stderr",
     "output_type": "stream",
     "text": [
      "Train Epoch 2/20: 100%|██████████| 326/326 [00:50<00:00,  6.48it/s, loss=0.155]\n"
     ]
    },
    {
     "name": "stdout",
     "output_type": "stream",
     "text": [
      "train Loss: 0.2510 Acc: 0.8995\n"
     ]
    },
    {
     "name": "stderr",
     "output_type": "stream",
     "text": [
      "Val Epoch 2/20: 100%|██████████| 1/1 [00:00<00:00,  1.63it/s, loss=0.24]\n"
     ]
    },
    {
     "name": "stdout",
     "output_type": "stream",
     "text": [
      "val Loss: 0.2401 Acc: 0.8125\n",
      "\n",
      "Epoch 3/20\n",
      "----------\n"
     ]
    },
    {
     "name": "stderr",
     "output_type": "stream",
     "text": [
      "Train Epoch 3/20: 100%|██████████| 326/326 [00:50<00:00,  6.43it/s, loss=0.371]\n"
     ]
    },
    {
     "name": "stdout",
     "output_type": "stream",
     "text": [
      "train Loss: 0.2222 Acc: 0.9101\n"
     ]
    },
    {
     "name": "stderr",
     "output_type": "stream",
     "text": [
      "Val Epoch 3/20: 100%|██████████| 1/1 [00:00<00:00,  1.61it/s, loss=1.05]\n"
     ]
    },
    {
     "name": "stdout",
     "output_type": "stream",
     "text": [
      "val Loss: 1.0474 Acc: 0.6250\n",
      "\n",
      "Epoch 4/20\n",
      "----------\n"
     ]
    },
    {
     "name": "stderr",
     "output_type": "stream",
     "text": [
      "Train Epoch 4/20: 100%|██████████| 326/326 [00:50<00:00,  6.48it/s, loss=0.2]\n"
     ]
    },
    {
     "name": "stdout",
     "output_type": "stream",
     "text": [
      "train Loss: 0.2090 Acc: 0.9168\n"
     ]
    },
    {
     "name": "stderr",
     "output_type": "stream",
     "text": [
      "Val Epoch 4/20: 100%|██████████| 1/1 [00:00<00:00,  1.64it/s, loss=0.302]\n"
     ]
    },
    {
     "name": "stdout",
     "output_type": "stream",
     "text": [
      "val Loss: 0.3021 Acc: 0.8750\n",
      "\n",
      "Epoch 5/20\n",
      "----------\n"
     ]
    },
    {
     "name": "stderr",
     "output_type": "stream",
     "text": [
      "Train Epoch 5/20: 100%|██████████| 326/326 [00:50<00:00,  6.44it/s, loss=0.106]\n"
     ]
    },
    {
     "name": "stdout",
     "output_type": "stream",
     "text": [
      "train Loss: 0.1678 Acc: 0.9337\n"
     ]
    },
    {
     "name": "stderr",
     "output_type": "stream",
     "text": [
      "Val Epoch 5/20: 100%|██████████| 1/1 [00:00<00:00,  1.64it/s, loss=0.885]\n"
     ]
    },
    {
     "name": "stdout",
     "output_type": "stream",
     "text": [
      "val Loss: 0.8846 Acc: 0.6250\n",
      "\n",
      "Epoch 6/20\n",
      "----------\n"
     ]
    },
    {
     "name": "stderr",
     "output_type": "stream",
     "text": [
      "Train Epoch 6/20: 100%|██████████| 326/326 [00:50<00:00,  6.47it/s, loss=0.407]\n"
     ]
    },
    {
     "name": "stdout",
     "output_type": "stream",
     "text": [
      "train Loss: 0.1650 Acc: 0.9379\n"
     ]
    },
    {
     "name": "stderr",
     "output_type": "stream",
     "text": [
      "Val Epoch 6/20: 100%|██████████| 1/1 [00:00<00:00,  1.67it/s, loss=0.262]\n"
     ]
    },
    {
     "name": "stdout",
     "output_type": "stream",
     "text": [
      "val Loss: 0.2618 Acc: 0.8750\n",
      "\n",
      "Epoch 7/20\n",
      "----------\n"
     ]
    },
    {
     "name": "stderr",
     "output_type": "stream",
     "text": [
      "Train Epoch 7/20: 100%|██████████| 326/326 [00:50<00:00,  6.48it/s, loss=0.246]\n"
     ]
    },
    {
     "name": "stdout",
     "output_type": "stream",
     "text": [
      "train Loss: 0.1514 Acc: 0.9415\n"
     ]
    },
    {
     "name": "stderr",
     "output_type": "stream",
     "text": [
      "Val Epoch 7/20: 100%|██████████| 1/1 [00:00<00:00,  1.49it/s, loss=0.0492]\n"
     ]
    },
    {
     "name": "stdout",
     "output_type": "stream",
     "text": [
      "val Loss: 0.0492 Acc: 0.9375\n",
      "\n",
      "Epoch 8/20\n",
      "----------\n"
     ]
    },
    {
     "name": "stderr",
     "output_type": "stream",
     "text": [
      "Train Epoch 8/20: 100%|██████████| 326/326 [00:50<00:00,  6.47it/s, loss=0.122]\n"
     ]
    },
    {
     "name": "stdout",
     "output_type": "stream",
     "text": [
      "train Loss: 0.1522 Acc: 0.9410\n"
     ]
    },
    {
     "name": "stderr",
     "output_type": "stream",
     "text": [
      "Val Epoch 8/20: 100%|██████████| 1/1 [00:00<00:00,  1.68it/s, loss=0.179]\n"
     ]
    },
    {
     "name": "stdout",
     "output_type": "stream",
     "text": [
      "val Loss: 0.1785 Acc: 1.0000\n",
      "\n",
      "Epoch 9/20\n",
      "----------\n"
     ]
    },
    {
     "name": "stderr",
     "output_type": "stream",
     "text": [
      "Train Epoch 9/20: 100%|██████████| 326/326 [00:50<00:00,  6.49it/s, loss=0.0703]\n"
     ]
    },
    {
     "name": "stdout",
     "output_type": "stream",
     "text": [
      "train Loss: 0.1407 Acc: 0.9452\n"
     ]
    },
    {
     "name": "stderr",
     "output_type": "stream",
     "text": [
      "Val Epoch 9/20: 100%|██████████| 1/1 [00:00<00:00,  1.63it/s, loss=0.152]\n"
     ]
    },
    {
     "name": "stdout",
     "output_type": "stream",
     "text": [
      "val Loss: 0.1518 Acc: 1.0000\n",
      "\n",
      "Epoch 10/20\n",
      "----------\n"
     ]
    },
    {
     "name": "stderr",
     "output_type": "stream",
     "text": [
      "Train Epoch 10/20: 100%|██████████| 326/326 [00:50<00:00,  6.41it/s, loss=0.0785]\n"
     ]
    },
    {
     "name": "stdout",
     "output_type": "stream",
     "text": [
      "train Loss: 0.1239 Acc: 0.9511\n"
     ]
    },
    {
     "name": "stderr",
     "output_type": "stream",
     "text": [
      "Val Epoch 10/20: 100%|██████████| 1/1 [00:00<00:00,  1.65it/s, loss=0.758]\n"
     ]
    },
    {
     "name": "stdout",
     "output_type": "stream",
     "text": [
      "val Loss: 0.7584 Acc: 0.6875\n",
      "\n",
      "Epoch 11/20\n",
      "----------\n"
     ]
    },
    {
     "name": "stderr",
     "output_type": "stream",
     "text": [
      "Train Epoch 11/20: 100%|██████████| 326/326 [00:50<00:00,  6.48it/s, loss=0.478]\n"
     ]
    },
    {
     "name": "stdout",
     "output_type": "stream",
     "text": [
      "train Loss: 0.1311 Acc: 0.9503\n"
     ]
    },
    {
     "name": "stderr",
     "output_type": "stream",
     "text": [
      "Val Epoch 11/20: 100%|██████████| 1/1 [00:00<00:00,  1.63it/s, loss=0.263]\n"
     ]
    },
    {
     "name": "stdout",
     "output_type": "stream",
     "text": [
      "val Loss: 0.2628 Acc: 0.9375\n",
      "\n",
      "Epoch 12/20\n",
      "----------\n"
     ]
    },
    {
     "name": "stderr",
     "output_type": "stream",
     "text": [
      "Train Epoch 12/20: 100%|██████████| 326/326 [00:50<00:00,  6.44it/s, loss=0.0391]\n"
     ]
    },
    {
     "name": "stdout",
     "output_type": "stream",
     "text": [
      "train Loss: 0.1113 Acc: 0.9574\n"
     ]
    },
    {
     "name": "stderr",
     "output_type": "stream",
     "text": [
      "Val Epoch 12/20: 100%|██████████| 1/1 [00:00<00:00,  1.66it/s, loss=0.142]\n"
     ]
    },
    {
     "name": "stdout",
     "output_type": "stream",
     "text": [
      "val Loss: 0.1417 Acc: 1.0000\n",
      "\n",
      "Epoch 13/20\n",
      "----------\n"
     ]
    },
    {
     "name": "stderr",
     "output_type": "stream",
     "text": [
      "Train Epoch 13/20: 100%|██████████| 326/326 [00:50<00:00,  6.48it/s, loss=0.0266]\n"
     ]
    },
    {
     "name": "stdout",
     "output_type": "stream",
     "text": [
      "train Loss: 0.1169 Acc: 0.9553\n"
     ]
    },
    {
     "name": "stderr",
     "output_type": "stream",
     "text": [
      "Val Epoch 13/20: 100%|██████████| 1/1 [00:00<00:00,  1.63it/s, loss=0.133]\n"
     ]
    },
    {
     "name": "stdout",
     "output_type": "stream",
     "text": [
      "val Loss: 0.1327 Acc: 1.0000\n",
      "\n",
      "Epoch 14/20\n",
      "----------\n"
     ]
    },
    {
     "name": "stderr",
     "output_type": "stream",
     "text": [
      "Train Epoch 14/20: 100%|██████████| 326/326 [00:50<00:00,  6.47it/s, loss=0.0558]\n"
     ]
    },
    {
     "name": "stdout",
     "output_type": "stream",
     "text": [
      "train Loss: 0.1099 Acc: 0.9595\n"
     ]
    },
    {
     "name": "stderr",
     "output_type": "stream",
     "text": [
      "Val Epoch 14/20: 100%|██████████| 1/1 [00:00<00:00,  1.46it/s, loss=0.125]\n"
     ]
    },
    {
     "name": "stdout",
     "output_type": "stream",
     "text": [
      "val Loss: 0.1252 Acc: 1.0000\n",
      "\n",
      "Epoch 15/20\n",
      "----------\n"
     ]
    },
    {
     "name": "stderr",
     "output_type": "stream",
     "text": [
      "Train Epoch 15/20: 100%|██████████| 326/326 [00:50<00:00,  6.40it/s, loss=0.0747]\n"
     ]
    },
    {
     "name": "stdout",
     "output_type": "stream",
     "text": [
      "train Loss: 0.0960 Acc: 0.9655\n"
     ]
    },
    {
     "name": "stderr",
     "output_type": "stream",
     "text": [
      "Val Epoch 15/20: 100%|██████████| 1/1 [00:00<00:00,  1.66it/s, loss=0.233]\n"
     ]
    },
    {
     "name": "stdout",
     "output_type": "stream",
     "text": [
      "val Loss: 0.2329 Acc: 0.9375\n",
      "\n",
      "Epoch 16/20\n",
      "----------\n"
     ]
    },
    {
     "name": "stderr",
     "output_type": "stream",
     "text": [
      "Train Epoch 16/20: 100%|██████████| 326/326 [00:50<00:00,  6.47it/s, loss=0.0328]\n"
     ]
    },
    {
     "name": "stdout",
     "output_type": "stream",
     "text": [
      "train Loss: 0.0911 Acc: 0.9670\n"
     ]
    },
    {
     "name": "stderr",
     "output_type": "stream",
     "text": [
      "Val Epoch 16/20: 100%|██████████| 1/1 [00:00<00:00,  1.67it/s, loss=0.0914]\n"
     ]
    },
    {
     "name": "stdout",
     "output_type": "stream",
     "text": [
      "val Loss: 0.0914 Acc: 1.0000\n",
      "\n",
      "Epoch 17/20\n",
      "----------\n"
     ]
    },
    {
     "name": "stderr",
     "output_type": "stream",
     "text": [
      "Train Epoch 17/20: 100%|██████████| 326/326 [00:50<00:00,  6.42it/s, loss=0.156]\n"
     ]
    },
    {
     "name": "stdout",
     "output_type": "stream",
     "text": [
      "train Loss: 0.0784 Acc: 0.9693\n"
     ]
    },
    {
     "name": "stderr",
     "output_type": "stream",
     "text": [
      "Val Epoch 17/20: 100%|██████████| 1/1 [00:00<00:00,  1.63it/s, loss=0.0802]\n"
     ]
    },
    {
     "name": "stdout",
     "output_type": "stream",
     "text": [
      "val Loss: 0.0802 Acc: 1.0000\n",
      "\n",
      "Epoch 18/20\n",
      "----------\n"
     ]
    },
    {
     "name": "stderr",
     "output_type": "stream",
     "text": [
      "Train Epoch 18/20: 100%|██████████| 326/326 [00:50<00:00,  6.48it/s, loss=0.0795]\n"
     ]
    },
    {
     "name": "stdout",
     "output_type": "stream",
     "text": [
      "train Loss: 0.0827 Acc: 0.9693\n"
     ]
    },
    {
     "name": "stderr",
     "output_type": "stream",
     "text": [
      "Val Epoch 18/20: 100%|██████████| 1/1 [00:00<00:00,  1.67it/s, loss=0.0744]\n"
     ]
    },
    {
     "name": "stdout",
     "output_type": "stream",
     "text": [
      "val Loss: 0.0744 Acc: 1.0000\n",
      "\n",
      "Epoch 19/20\n",
      "----------\n"
     ]
    },
    {
     "name": "stderr",
     "output_type": "stream",
     "text": [
      "Train Epoch 19/20: 100%|██████████| 326/326 [00:50<00:00,  6.44it/s, loss=0.0893]\n"
     ]
    },
    {
     "name": "stdout",
     "output_type": "stream",
     "text": [
      "train Loss: 0.0845 Acc: 0.9682\n"
     ]
    },
    {
     "name": "stderr",
     "output_type": "stream",
     "text": [
      "Val Epoch 19/20: 100%|██████████| 1/1 [00:00<00:00,  1.55it/s, loss=0.14]\n"
     ]
    },
    {
     "name": "stdout",
     "output_type": "stream",
     "text": [
      "val Loss: 0.1396 Acc: 1.0000\n",
      "\n",
      "Epoch 20/20\n",
      "----------\n"
     ]
    },
    {
     "name": "stderr",
     "output_type": "stream",
     "text": [
      "Train Epoch 20/20: 100%|██████████| 326/326 [00:50<00:00,  6.42it/s, loss=0.153]\n"
     ]
    },
    {
     "name": "stdout",
     "output_type": "stream",
     "text": [
      "train Loss: 0.0806 Acc: 0.9664\n"
     ]
    },
    {
     "name": "stderr",
     "output_type": "stream",
     "text": [
      "Val Epoch 20/20: 100%|██████████| 1/1 [00:00<00:00,  1.66it/s, loss=0.128]\n"
     ]
    },
    {
     "name": "stdout",
     "output_type": "stream",
     "text": [
      "val Loss: 0.1281 Acc: 1.0000\n",
      "\n",
      "Training complete in 17m 4s\n",
      "Best val Acc: 1.000000\n"
     ]
    },
    {
     "name": "stderr",
     "output_type": "stream",
     "text": [
      "Testing: 100%|██████████| 39/39 [00:05<00:00,  7.22it/s, loss=0.584]\n"
     ]
    },
    {
     "name": "stdout",
     "output_type": "stream",
     "text": [
      "\n",
      "Test Results:\n",
      "Test Loss: 0.1964\n",
      "Test Accuracy: 0.9487 (592/624)\n",
      "Metrics plot saved to swin_t_training_metrics.png\n"
     ]
    },
    {
     "data": {
      "image/png": "[encoded data removed]",
      "text/plain": [
       "<Figure size 1500x500 with 2 Axes>"
      ]
     },
     "metadata": {},
     "output_type": "display_data"
    },
    {
     "name": "stdout",
     "output_type": "stream",
     "text": [
      "Confusion matrix saved to swin_t_confusion_matrix.png\n"
     ]
    },
    {
     "name": "stderr",
     "output_type": "stream",
     "text": [
      "2025/09/20 15:54:30 WARNING mlflow.utils.requirements_utils: Found torch version (2.6.0+cu124) contains a local version label (+cu124). MLflow logged a pip requirement for this package as 'torch==2.6.0' without the local version label to make it installable from PyPI. To specify pip requirements containing local version labels, please use `conda_env` or `pip_requirements`.\n",
      "2025/09/20 15:54:39 WARNING mlflow.utils.requirements_utils: The following packages were not found in the public PyPI package index as of 2024-02-29; if these packages are not present in the public PyPI index, you must install them manually before loading your model: {'dataproc-spark-connect'}\n",
      "2025/09/20 15:54:39 WARNING mlflow.utils.requirements_utils: Found torchvision version (0.21.0+cu124) contains a local version label (+cu124). MLflow logged a pip requirement for this package as 'torchvision==0.21.0' without the local version label to make it installable from PyPI. To specify pip requirements containing local version labels, please use `conda_env` or `pip_requirements`.\n",
      "Successfully registered model 'pneumonia-detection-swin_t'.\n",
      "Created version '1' of model 'pneumonia-detection-swin_t'.\n",
      "2025/09/20 15:54:39 INFO mlflow.system_metrics.system_metrics_monitor: Stopping system metrics monitoring...\n"
     ]
    },
    {
     "name": "stdout",
     "output_type": "stream",
     "text": [
      "Logged model and registered as 'pneumonia-detection-swin_t'.\n",
      "Model saved to swin_t_best.pth\n",
      "\n",
      "=========================\n",
      "  COMPLETED MLFLOW RUN FOR: SWIN_T\n",
      "=========================\n",
      "\n"
     ]
    },
    {
     "name": "stderr",
     "output_type": "stream",
     "text": [
      "2025/09/20 15:54:39 INFO mlflow.system_metrics.system_metrics_monitor: Successfully terminated system metrics monitoring!\n"
     ]
    }
   ],
   "source": [
    "# Set up MLflow\n",
    "mlflow.set_experiment(EXPERIMENT_NAME)\n",
    "mlflow.enable_system_metrics_logging()\n",
    "    \n",
    "# Calculate class weights\n",
    "if LOSS_FUNCTION_TYPE == 'weighted':\n",
    "    num_normal = len(os.listdir(os.path.join(DATA_DIR, 'train', 'NORMAL')))\n",
    "    num_pneumonia = len(os.listdir(os.path.join(DATA_DIR, 'train', 'PNEUMONIA')))\n",
    "    total = num_normal + num_pneumonia\n",
    "    weight_for_normal = total / (2.0 * num_normal)\n",
    "    weight_for_pneumonia = total / (2.0 * num_pneumonia)\n",
    "    class_weights = torch.tensor([weight_for_normal, weight_for_pneumonia]).to(device)\n",
    "    print(f\"Using weighted loss. Class weights: {class_weights}\")\n",
    "else:\n",
    "    class_weights = None\n",
    "    print(\"Using standard (unweighted) loss.\")\n",
    "\n",
    "# These lists will be populated and used by later cells\n",
    "files_to_archive = []\n",
    "experiment_results = {}\n",
    "\n",
    "\n",
    "\n",
    "\n",
    "\n",
    "# Get a sample input and convert it to a NumPy array for the MLflow signature\n",
    "sample_input_tensor, _ = next(iter(dataloaders['val']))\n",
    "input_example = sample_input_tensor.cpu().numpy()\n",
    "\n",
    "# --- Main loop to train each model ---\n",
    "for model_name in MODELS_TO_TRAIN:\n",
    "    with mlflow.start_run(run_name=f\"{model_name}\"):\n",
    "        print(f\"\\n{'='*25}\\n  STARTING MLFLOW RUN FOR: {model_name.upper()}\\n{'='*25}\\n\")\n",
    "\n",
    "        # MlFlow MetaData Tracking\n",
    "        mlflow.set_tag(\"run_group\", RUN_TAG)\n",
    "        mlflow.log_input(META_DATA_W_SCHEMA, context=\"external_data\")\n",
    "        mlflow.set_tag(\"environment\", \"Kaggle\")\n",
    "        mlflow.set_tag(\"pytorch_version\", torch.__version__)\n",
    "        mlflow.set_tag(\"run_author\", \"chillguycode\")\n",
    "\n",
    "        \n",
    "        model = get_model(model_name, num_classes)\n",
    "        \n",
    "        # Log Hyperparameters\n",
    "        num_params = sum(p.numel() for p in model.parameters() if p.requires_grad)\n",
    "        params = {\n",
    "            \"model_name\": model_name,\n",
    "            \"learning_rate\": LEARNING_RATE,\n",
    "            \"batch_size\": BATCH_SIZE,\n",
    "            \"num_epochs\": NUM_EPOCHS,\n",
    "            \"weight_decay\": WEIGHT_DECAY,\n",
    "            \"optimizer\": OPTIMIZER_TYPE,\n",
    "            \"lr_scheduler\": SCHEDULER_TYPE,\n",
    "            \"loss_function\": LOSS_FUNCTION_TYPE,\n",
    "            \"image_size\": 224, # Assuming 224 from your transforms\n",
    "            \"trainable_params\": num_params\n",
    "        }\n",
    "        mlflow.log_params(params)\n",
    "\n",
    "        # Create Optimizer, Loss, and Scheduler\n",
    "        criterion = nn.CrossEntropyLoss(weight=class_weights)\n",
    "        if OPTIMIZER_TYPE == 'AdamW':\n",
    "            optimizer = optim.AdamW(model.parameters(), lr=LEARNING_RATE, weight_decay=WEIGHT_DECAY)\n",
    "        else: # Add other optimizers if needed\n",
    "            optimizer = optim.Adam(model.parameters(), lr=LEARNING_RATE)\n",
    "        \n",
    "        if SCHEDULER_TYPE == 'cosine':\n",
    "            scheduler = CosineAnnealingLR(optimizer, T_max=NUM_EPOCHS)\n",
    "        else:\n",
    "            scheduler = torch.optim.lr_scheduler.LambdaLR(optimizer, lr_lambda=lambda epoch: 1.0)\n",
    "        \n",
    "        # Train and Evaluate\n",
    "        trained_model, history, best_val_labels, best_val_preds = train_model(model, criterion, optimizer, scheduler, num_epochs=NUM_EPOCHS)\n",
    "        test_loss, test_acc = test_model(trained_model, criterion)\n",
    "        \n",
    "        # Store results for the summary table\n",
    "        experiment_results[model_name] = {\n",
    "            'test_acc': test_acc,\n",
    "            'test_loss': test_loss,\n",
    "            'best_val_acc': max(history['val_acc'])\n",
    "        }\n",
    "\n",
    "        # Log to MLflow\n",
    "        mlflow.log_metric(\"final_test_loss\", test_loss); mlflow.log_metric(\"final_test_acc\", test_acc)\n",
    "        \n",
    "        plot_path = plot_metrics(history, model_name)\n",
    "        mlflow.log_artifact(plot_path, \"plots\")\n",
    "        files_to_archive.append(plot_path)\n",
    "\n",
    "        if best_val_labels and best_val_preds:\n",
    "            cm_path = log_confusion_matrix(best_val_labels, best_val_preds, model_name)\n",
    "            mlflow.log_artifact(cm_path, \"plots\")\n",
    "            files_to_archive.append(cm_path)\n",
    "        \n",
    "        # --- FIX: Move model to CPU for logging to avoid device mismatch errors ---\n",
    "        trained_model.cpu()\n",
    "        \n",
    "        # === FIX FOR MLFLOW v2.x ===\n",
    "        mlflow.pytorch.log_model(\n",
    "            pytorch_model=trained_model,\n",
    "            artifact_path=model_name,\n",
    "            input_example=input_example,\n",
    "            # This is the new line that registers the model\n",
    "            registered_model_name=f\"pneumonia-detection-{model_name}\" \n",
    "        )\n",
    "        print(f\"Logged model and registered as 'pneumonia-detection-{model_name}'.\")\n",
    "        \n",
    "        # --- FIX: Move model back to the GPU for saving and any further use ---\n",
    "        trained_model.to(device)\n",
    "        \n",
    "        model_path = save_model(trained_model, model_name)\n",
    "        files_to_archive.append(model_path)\n",
    "        \n",
    "        print(f\"\\n{'='*25}\\n  COMPLETED MLFLOW RUN FOR: {model_name.upper()}\\n{'='*25}\\n\")\n",
    "\n",
    "# Unset the environment variable to avoid affecting other sessions\n",
    "if \"MLFLOW_LOG_SYSTEM_METRICS\" in os.environ:\n",
    "    del os.environ[\"MLFLOW_LOG_SYSTEM_METRICS\"]"
   ]
  },
  {
   "cell_type": "markdown",
   "id": "8626bb4b",
   "metadata": {
    "papermill": {
     "duration": 3.501831,
     "end_time": "2025-09-20T15:54:49.496029",
     "exception": false,
     "start_time": "2025-09-20T15:54:45.994198",
     "status": "completed"
    },
    "tags": []
   },
   "source": [
    "# Visualisation"
   ]
  },
  {
   "cell_type": "code",
   "execution_count": 16,
   "id": "52108815",
   "metadata": {
    "execution": {
     "iopub.execute_input": "2025-09-20T15:54:56.201199Z",
     "iopub.status.busy": "2025-09-20T15:54:56.200366Z",
     "iopub.status.idle": "2025-09-20T15:54:59.163728Z",
     "shell.execute_reply": "2025-09-20T15:54:59.162849Z"
    },
    "papermill": {
     "duration": 6.388213,
     "end_time": "2025-09-20T15:54:59.165323",
     "exception": false,
     "start_time": "2025-09-20T15:54:52.777110",
     "status": "completed"
    },
    "tags": []
   },
   "outputs": [
    {
     "name": "stdout",
     "output_type": "stream",
     "text": [
      "\n",
      "--- Experiment Results Summary ---\n",
      "----------------------------------------------------------------------------------------\n",
      "| Model Name           | Test Accuracy (%)    | Test Loss       | Best Val Acc (%)     |\n",
      "----------------------------------------------------------------------------------------\n",
      "| resnet50             | 94.71                | 0.2071          | 100.00               |\n",
      "| resnext50            | 95.35                | 0.2017          | 100.00               |\n",
      "| efficientnet_v2_s    | 96.15                | 0.1744          | 100.00               |\n",
      "| convnext_tiny        | 95.67                | 0.1877          | 100.00               |\n",
      "| vit_b_16             | 93.59                | 0.1635          | 100.00               |\n",
      "| swin_t               | 94.87                | 0.1964          | 100.00               |\n",
      "----------------------------------------------------------------------------------------\n",
      "\n",
      "Best performing model based on Test Accuracy: efficientnet_v2_s (Accuracy: 96.15%)\n",
      "Loading weights from: efficientnet_v2_s_best.pth\n",
      "\n",
      "--- Visualizing Predictions for: EFFICIENTNET_V2_S ---\n"
     ]
    },
    {
     "data": {
      "image/png": "[encoded data removed]",
      "text/plain": [
       "<Figure size 1500x700 with 10 Axes>"
      ]
     },
     "metadata": {},
     "output_type": "display_data"
    }
   ],
   "source": [
    "# Check if the results dictionary exists and is not empty\n",
    "if 'experiment_results' in locals() and experiment_results:\n",
    "    # --- Display the summary table ---\n",
    "    display_results_table(experiment_results)\n",
    "\n",
    "    # --- Find the best model based on test accuracy ---\n",
    "    best_model_name = max(experiment_results, key=lambda k: experiment_results[k]['test_acc'])\n",
    "    best_model_acc = experiment_results[best_model_name]['test_acc']\n",
    "    \n",
    "    print(f\"\\nBest performing model based on Test Accuracy: {best_model_name} (Accuracy: {best_model_acc:.2%})\")\n",
    "\n",
    "    # --- Visualize predictions from the BEST model ---\n",
    "    best_model_path = f\"{best_model_name}_best.pth\"\n",
    "    print(f\"Loading weights from: {best_model_path}\")\n",
    "    \n",
    "    # Create a new instance of the model architecture\n",
    "    visualization_model = get_model(best_model_name, num_classes)\n",
    "    \n",
    "    # Load the saved state dictionary\n",
    "    visualization_model.load_state_dict(torch.load(best_model_path))\n",
    "    \n",
    "    # Run the visualization function\n",
    "    visualize_model_predictions(visualization_model, best_model_name)\n",
    "else:\n",
    "    print(\"Experiment results not found. Please run the main training cell above first.\")"
   ]
  },
  {
   "cell_type": "markdown",
   "id": "f81f013e",
   "metadata": {
    "papermill": {
     "duration": 3.276806,
     "end_time": "2025-09-20T15:55:05.932904",
     "exception": false,
     "start_time": "2025-09-20T15:55:02.656098",
     "status": "completed"
    },
    "tags": []
   },
   "source": [
    "# Archiviing and Cleanup"
   ]
  },
  {
   "cell_type": "code",
   "execution_count": 17,
   "id": "3ba64761",
   "metadata": {
    "execution": {
     "iopub.execute_input": "2025-09-20T15:55:12.673241Z",
     "iopub.status.busy": "2025-09-20T15:55:12.672934Z",
     "iopub.status.idle": "2025-09-20T15:56:39.872518Z",
     "shell.execute_reply": "2025-09-20T15:56:39.871774Z"
    },
    "papermill": {
     "duration": 94.039183,
     "end_time": "2025-09-20T15:56:43.378661",
     "exception": false,
     "start_time": "2025-09-20T15:55:09.339478",
     "status": "completed"
    },
    "tags": []
   },
   "outputs": [
    {
     "name": "stdout",
     "output_type": "stream",
     "text": [
      "\n",
      "--- Creating ZIP archive of all models, plots, and MLflow data ---\n",
      "\n",
      "Successfully created archive: 'experiment_archive.zip'\n",
      "\n",
      "--- Cleaning up individual artifact files ---\n",
      "Cleanup complete.\n"
     ]
    }
   ],
   "source": [
    "# --- 6. ARCHIVE AND CLEANUP ---\n",
    "\n",
    "print(\"\\n--- Creating ZIP archive of all models, plots, and MLflow data ---\")\n",
    "zip_filename = \"experiment_archive.zip\"\n",
    "\n",
    "with zipfile.ZipFile(zip_filename, 'w', zipfile.ZIP_DEFLATED) as zf:\n",
    "    # Add individual model weights and plots\n",
    "    for file_path in files_to_archive:\n",
    "        if os.path.exists(file_path):\n",
    "            zf.write(file_path, os.path.basename(file_path))\n",
    "\n",
    "    # Add the entire mlruns directory, preserving its structure\n",
    "    mlruns_dir = \"mlruns\"\n",
    "    if os.path.isdir(mlruns_dir):\n",
    "        for root, _, files in os.walk(mlruns_dir):\n",
    "            for file in files:\n",
    "                file_path = os.path.join(root, file)\n",
    "                # The archive name will be the relative path, e.g., 'mlruns/0/run_id/...'\n",
    "                zf.write(file_path, os.path.relpath(file_path, start=\".\"))\n",
    "\n",
    "print(f\"\\nSuccessfully created archive: '{zip_filename}'\")\n",
    "\n",
    "# --- Optional: Cleanup of individual files ---\n",
    "print(\"\\n--- Cleaning up individual artifact files ---\")\n",
    "for file_path in files_to_archive:\n",
    "    if os.path.exists(file_path):\n",
    "        os.remove(file_path)\n",
    "print(\"Cleanup complete.\")"
   ]
  }
 ],
 "metadata": {
  "kaggle": {
   "accelerator": "gpu",
   "dataSources": [
    {
     "datasetId": 17810,
     "sourceId": 23812,
     "sourceType": "datasetVersion"
    }
   ],
   "dockerImageVersionId": 31090,
   "isGpuEnabled": true,
   "isInternetEnabled": true,
   "language": "python",
   "sourceType": "notebook"
  },
  "kernelspec": {
   "display_name": "Python 3",
   "language": "python",
   "name": "python3"
  },
  "language_info": {
   "codemirror_mode": {
    "name": "ipython",
    "version": 3
   },
   "file_extension": ".py",
   "mimetype": "text/x-python",
   "name": "python",
   "nbconvert_exporter": "python",
   "pygments_lexer": "ipython3",
   "version": "3.11.13"
  },
  "papermill": {
   "default_parameters": {},
   "duration": 11621.919034,
   "end_time": "2025-09-20T15:56:49.794197",
   "environment_variables": {},
   "exception": null,
   "input_path": "__notebook__.ipynb",
   "output_path": "__notebook__.ipynb",
   "parameters": {},
   "start_time": "2025-09-20T12:43:07.875163",
   "version": "2.6.0"
  }
 },
 "nbformat": 4,
 "nbformat_minor": 5
}
